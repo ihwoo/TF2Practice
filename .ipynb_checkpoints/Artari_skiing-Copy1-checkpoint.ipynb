{
 "cells": [
  {
   "cell_type": "code",
   "execution_count": 1,
   "metadata": {},
   "outputs": [],
   "source": [
    "import tensorflow as tf\n",
    "import gym\n",
    "from IPython.display import clear_output\n",
    "import time\n",
    "import numpy as np"
   ]
  },
  {
   "cell_type": "code",
   "execution_count": 2,
   "metadata": {},
   "outputs": [
    {
     "name": "stdout",
     "output_type": "stream",
     "text": [
      "Discrete(18)\n"
     ]
    }
   ],
   "source": [
    "env=gym.make('Alien-v0')\n",
    "obs=env.reset()\n",
    "print(env.action_space)\n",
    "#print(env.observation_space.low)#0\n",
    "#print(env.observation_space.high)#255"
   ]
  },
  {
   "cell_type": "markdown",
   "metadata": {},
   "source": [
    "#Random Agent\n",
    "score=0\n",
    "step=0\n",
    "rewards=[]\n",
    "frame_queue=[]\n",
    "queue_size=4\n",
    "\n",
    "while True:\n",
    "    action=env.action_space.sample()\n",
    "    obs,reward,done,info=env.step(action)\n",
    "    #env.render()\n",
    "    frame_queue=inqueue(frame_queue,obs,queue_size)\n",
    "    \n",
    "    score+=reward\n",
    "    rewards.append(reward)\n",
    "    step+=1\n",
    "    if done:\n",
    "        break\n",
    "\n",
    "print(f'score>{score}\\tstep>{step}')\n",
    "\n",
    "import matplotlib.pyplot as plt\n",
    "for i in range(len(frame_queue)):\n",
    "    \n",
    "    plt.subplot(len(frame_queue)+1,1,i+1)\n",
    "    plt.imshow(np.asarray(frame_queue[0]),cmap='gray')\n",
    "plt.show()"
   ]
  },
  {
   "cell_type": "code",
   "execution_count": 3,
   "metadata": {},
   "outputs": [],
   "source": [
    "\n",
    "score=0\n",
    "step=0\n",
    "rewards=[]"
   ]
  },
  {
   "cell_type": "code",
   "execution_count": 4,
   "metadata": {
    "scrolled": true
   },
   "outputs": [],
   "source": [
    "from PIL import Image\n",
    "resize_x=64\n",
    "resize_y=64\n",
    "layer_count=5\n",
    "layer_unit=51\n",
    "layer_pix={layer_unit*i for i in range(int(255/layer_unit) +1)}\n",
    "def preprocessing(obs):\n",
    "    x=np.zeros((resize_x,resize_y,layer_count))\n",
    "    down_sampled=np.array(Image.fromarray(obs).resize((resize_x,resize_y)).convert('L'))\n",
    "    for i in range(resize_x):\n",
    "        for j in range(resize_y):            \n",
    "            idx=int(down_sampled[i,j]/51)\n",
    "            x[i,j,idx]=1\n",
    "    return x\n",
    "#test code\n"
   ]
  },
  {
   "cell_type": "markdown",
   "metadata": {},
   "source": [
    "import datetime\n",
    "obs=env.reset()\n",
    "start_time=datetime.datetime.now()\n",
    "res=preprocessing(obs)\n",
    "print(res.shape)\n",
    "print(res[0][0])\n",
    "end_time=datetime.datetime.now()\n",
    "print(f'it takes {end_time-start_time} ms')"
   ]
  },
  {
   "cell_type": "code",
   "execution_count": 5,
   "metadata": {},
   "outputs": [],
   "source": [
    "def buildmodel():\n",
    "    model=tf.keras.Sequential([\n",
    "            tf.keras.layers.Conv2D(input_shape=(resize_x,resize_y,layer_count), kernel_size=(4,4), filters=16),\n",
    "            tf.keras.layers.MaxPool2D(strides=(2,2)),\n",
    "            tf.keras.layers.Conv2D(kernel_size=(4,4),filters=32),\n",
    "            tf.keras.layers.MaxPool2D(strides=(2,2)),\n",
    "            tf.keras.layers.Conv2D(kernel_size=(4,4),filters=32),\n",
    "            tf.keras.layers.Flatten(),\n",
    "            tf.keras.layers.Dense(units=256, activation='relu'),\n",
    "            tf.keras.layers.Dense(units=18, activation='softmax')\n",
    "        ])\n",
    "    model.compile(optimizer=tf.optimizers.Adam(),\n",
    "                  loss='sparse_categorical_crossentropy', \n",
    "                  metrics=['accuracy'])\n",
    "    return model\n",
    "model=buildmodel()\n",
    "target_model=buildmodel()"
   ]
  },
  {
   "cell_type": "code",
   "execution_count": 6,
   "metadata": {},
   "outputs": [],
   "source": [
    "gamma=0.9\n",
    "batch_size=512\n",
    "max_memory=batch_size*16\n",
    "memory=[]\n",
    "\n",
    "def append_sample(state,action,reward,next_state,done):\n",
    "    memory.append([state,action,reward,next_state,done])\n",
    "    \n",
    "def train_model():\n",
    "    np.random.shuffle(memory)\n",
    "    length=max_memory//batch_size\n",
    "    for k in range(length):\n",
    "        mini_batch=memory[k*batch_size:(k+1)*batch_size]\n",
    "        states=np.zeros((batch_size,resize_x,resize_y,layer_count))\n",
    "        next_states=np.zeros((batch_size,resize_x,resize_y,layer_count))\n",
    "        actions,rewards,dones=[],[],[]\n",
    "        \n",
    "        \n",
    "        for i in range(batch_size):\n",
    "            states[i]=mini_batch[i][0]\n",
    "            actions.append(mini_batch[i][1])\n",
    "            rewards.append(mini_batch[i][2])\n",
    "            next_states[i]=mini_batch[i][3]\n",
    "            dones.append(mini_batch[i][4])\n",
    "            \n",
    "        target=model.predict(states)\n",
    "        next_target=target_model.predict(next_states)\n",
    "        \n",
    "        for i in range(batch_size):\n",
    "            if dones[i]:\n",
    "                target[i][actions[i]]=rewards[i]\n",
    "            else:\n",
    "                target[i][actions[i]]=rewards[i]+gamma*np.amax(next_target[i])\n",
    "        print(f'Shape of target>{target.shape}')\n",
    "        print(f'Shape of states>{states.shape}')\n",
    "        model.fit(states,np.reshape(target,(-1,18)),batch_size=batch_size,epochs=2,verbose=0)"
   ]
  },
  {
   "cell_type": "code",
   "execution_count": null,
   "metadata": {},
   "outputs": [
    {
     "name": "stdout",
     "output_type": "stream",
     "text": [
      "10000\n",
      "0\tScore>210.0\tStep>1000\tMax_tile>252\tmemory_len>5757\n"
     ]
    }
   ],
   "source": [
    "import random\n",
    "import math \n",
    "\n",
    "def softmax(logits):\n",
    "    exp_logits=np.exp(logits-np.max(logits))\n",
    "    sum_exp_logits=np.sum(exp_logits)\n",
    "    return exp_logits/sum_exp_logits\n",
    "max_episodes=101\n",
    "epsilon=0.9\n",
    "epsilon_min=0.1\n",
    "\n",
    "scores=[]\n",
    "steps=[]\n",
    "iteration=0\n",
    "train_count=0\n",
    "for i in range(max_episodes):\n",
    "    #if i%100==1 and i!=0:\n",
    "        #print(f'{i}\\tscore mean>{np.mean(scores[-100:])}\\tstep mean>{np.mean(steps[-100:])}\\titeration>{iteration}\\tepsilon>{epsilon}')\n",
    "    #print(f'{i}\\tscore mean>{np.mean(scores[-100:])}\\tstep mean>{np.mean(steps[-100:])}\\titeration>{iteration}\\tepsilon>{epsilon}')\n",
    "    prev_obs=preprocessing(env.reset())\n",
    "    score=0\n",
    "    step=0\n",
    "    \n",
    "    while step<env._max_episode_steps/10:\n",
    "        iteration+=1\n",
    "        if random.random()<epsilon:\n",
    "            action=env.action_space.sample()\n",
    "        else:\n",
    "            x=np.expand_dims(prev_obs,axis=0)\n",
    "            logits=model.predict(x)[0]\n",
    "            prob=softmax(logits)\n",
    "            action=np.argmax(prob)\n",
    "        obs,reward,done,info=env.step([action])\n",
    "        score+=reward\n",
    "        step+=1\n",
    "        prep_obs=preprocessing(obs)\n",
    "        #custom reward\n",
    "        append_sample(prev_obs,action,reward,prep_obs,done)\n",
    "        \n",
    "        if len(memory)>=max_memory:\n",
    "            train_model()\n",
    "            memory=[]\n",
    "            train_count+=1\n",
    "            if train_count%4==0:\n",
    "                target_model.set_weights(model.get_weights())\n",
    "        prev_obs=prep_obs\n",
    "        if epsilon>0.01 and iteration%2500==0:\n",
    "            epsilon=epsilon/1.005\n",
    "        if done:\n",
    "            break\n",
    "    scores.append(score)\n",
    "    steps.append(step)\n",
    "    print(f'{i}\\tScore>{score}\\tStep>{step}\\tMax_tile>{np.max(obs)}\\tmemory_len>{len(memory)}')\n",
    "        "
   ]
  },
  {
   "cell_type": "markdown",
   "metadata": {},
   "source": [
    "import matplotlib.pyplot as plt\n",
    "plt.figure(figsize=(10,10))\n",
    "\n",
    "pix_size=10\n",
    "max_len=int(len(obs)/pix_size*len(obs[i])/pix_size)\n",
    "for i in range(int(len(obs)/pix_size)):\n",
    "    for j in range(int(len(obs[i])/pix_size)):\n",
    "        idx=i*21+j+1\n",
    "        if idx > max_len:\n",
    "            break\n",
    "        buf=[]\n",
    "        for k in range(pix_size):\n",
    "            xbuf=[]\n",
    "            for l in range(pix_size):\n",
    "                xbuf.append(obs[i*10+k][j*10+l])\n",
    "            buf.append(xbuf)\n",
    "        \n",
    "        plt.subplot(21,16,idx,label=np.mean(buf))\n",
    "        plt.imshow(buf)\n",
    "    \n",
    "plt.show()"
   ]
  },
  {
   "cell_type": "code",
   "execution_count": null,
   "metadata": {},
   "outputs": [],
   "source": [
    "import matplotlib.pyplot as plt\n",
    "N=10\n",
    "rolling_mean=[np.mean(scores[x:x+N]) for x in range(len(scores)-N+1)]\n",
    "plt.figure(figsize=(12,4))\n",
    "plt.subplot(1,2,1)\n",
    "plt.scatter(range(len(scores)),scores,marker='.')\n",
    "plt.subplot(1,2,2)\n",
    "plt.plot(rolling_mean)\n",
    "plt.show()"
   ]
  },
  {
   "cell_type": "code",
   "execution_count": null,
   "metadata": {},
   "outputs": [],
   "source": []
  },
  {
   "cell_type": "code",
   "execution_count": null,
   "metadata": {},
   "outputs": [],
   "source": []
  },
  {
   "cell_type": "code",
   "execution_count": null,
   "metadata": {},
   "outputs": [],
   "source": []
  },
  {
   "cell_type": "code",
   "execution_count": null,
   "metadata": {},
   "outputs": [],
   "source": []
  },
  {
   "cell_type": "code",
   "execution_count": null,
   "metadata": {},
   "outputs": [],
   "source": []
  },
  {
   "cell_type": "code",
   "execution_count": null,
   "metadata": {},
   "outputs": [],
   "source": []
  },
  {
   "cell_type": "code",
   "execution_count": null,
   "metadata": {},
   "outputs": [],
   "source": []
  },
  {
   "cell_type": "code",
   "execution_count": null,
   "metadata": {},
   "outputs": [],
   "source": []
  },
  {
   "cell_type": "code",
   "execution_count": null,
   "metadata": {},
   "outputs": [],
   "source": []
  },
  {
   "cell_type": "code",
   "execution_count": null,
   "metadata": {},
   "outputs": [],
   "source": []
  }
 ],
 "metadata": {
  "kernelspec": {
   "display_name": "Python 3",
   "language": "python",
   "name": "python3"
  },
  "language_info": {
   "codemirror_mode": {
    "name": "ipython",
    "version": 3
   },
   "file_extension": ".py",
   "mimetype": "text/x-python",
   "name": "python",
   "nbconvert_exporter": "python",
   "pygments_lexer": "ipython3",
   "version": "3.6.9"
  }
 },
 "nbformat": 4,
 "nbformat_minor": 2
}
