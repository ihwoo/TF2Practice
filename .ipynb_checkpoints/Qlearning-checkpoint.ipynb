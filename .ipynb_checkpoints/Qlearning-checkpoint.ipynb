{
 "cells": [
  {
   "cell_type": "code",
   "execution_count": 1,
   "metadata": {},
   "outputs": [],
   "source": [
    "import time\n",
    "import gym\n",
    "import tensorflow as tf\n",
    "import numpy as np"
   ]
  },
  {
   "cell_type": "code",
   "execution_count": 2,
   "metadata": {},
   "outputs": [
    {
     "name": "stdout",
     "output_type": "stream",
     "text": [
      "Discrete(18)\n",
      "10000\n"
     ]
    }
   ],
   "source": [
    "env=gym.make('Alien-v0')\n",
    "action_space_len=env.action_space.n\n",
    "print(env.action_space)\n",
    "print(env._max_episode_steps)"
   ]
  },
  {
   "cell_type": "code",
   "execution_count": 3,
   "metadata": {},
   "outputs": [
    {
     "name": "stdout",
     "output_type": "stream",
     "text": [
      "iter>0\tscore>94.50000000000146\n",
      "iter>10\tscore>72.50000000000067\n",
      "iter>20\tscore>81.700000000003\n",
      "iter>30\tscore>58.70000000000015\n",
      "iter>40\tscore>118.90000000000082\n",
      "iter>50\tscore>75.49999999999962\n",
      "iter>60\tscore>104.300000000002\n",
      "iter>70\tscore>123.20000000000388\n",
      "iter>80\tscore>107.00000000000358\n",
      "iter>90\tscore>59.99999999999987\n"
     ]
    }
   ],
   "source": [
    "scores=[]\n",
    "train_data=[]\n",
    "accepted_score=[]\n",
    "required_score=70\n",
    "\n",
    "for i in range(100):\n",
    "    env.reset()\n",
    "    score=0\n",
    "    game_memory=[]\n",
    "    prev_obs=[]\n",
    "    for j in range(1000):\n",
    "        \n",
    "        action=env.action_space.sample()\n",
    "        obs,reward,done,info=env.step(action)\n",
    "        ###########\n",
    "        reward-=0.1\n",
    "        ###########\n",
    "        if len(prev_obs)>0:\n",
    "            game_memory.append([prev_obs,action])\n",
    "        prev_obs=obs\n",
    "        \n",
    "        #env.render()\n",
    "        #time.sleep(0.013)\n",
    "        score+=reward\n",
    "        if done:            \n",
    "            break\n",
    "    scores.append(score)\n",
    "    if score>required_score:\n",
    "        accepted_score.append(score)\n",
    "        for data in game_memory:\n",
    "            train_data.append(data)\n",
    "    if i %10==0:\n",
    "        print(f'iter>{i}\\tscore>{score}')"
   ]
  },
  {
   "cell_type": "code",
   "execution_count": 4,
   "metadata": {},
   "outputs": [
    {
     "data": {
      "text/plain": [
       "<seaborn.axisgrid.FacetGrid at 0x7fde20ad9e48>"
      ]
     },
     "execution_count": 4,
     "metadata": {},
     "output_type": "execute_result"
    },
    {
     "data": {
      "image/png": "[encoded data removed]",
      "text/plain": [
       "<Figure size 360x360 with 1 Axes>"
      ]
     },
     "metadata": {
      "needs_background": "light"
     },
     "output_type": "display_data"
    }
   ],
   "source": [
    "import seaborn as sns\n",
    "sns.displot(scores,rug=True)"
   ]
  },
  {
   "cell_type": "code",
   "execution_count": 5,
   "metadata": {},
   "outputs": [
    {
     "name": "stdout",
     "output_type": "stream",
     "text": [
      "(50477,)\n"
     ]
    }
   ],
   "source": [
    "train_x=np.array([i[0] for i in train_data]).reshape(-1,210,160,3)\n",
    "y_val=np.array([i[1] for i in train_data]).reshape(-1)\n",
    "print(y_val.shape)\n",
    "train_y=tf.one_hot(y_val,action_space_len)\n",
    "train_x=train_x[:25000]\n",
    "train_y=train_y[:25000]\n",
    "#v=[0]*action_space_len\n",
    "#train_y=[]\n",
    "#idx=0\n",
    "#for i in y_val:\n",
    "#    train_y.append(np.array(v))\n",
    "#    train_y[idx][i]=1\n",
    "#    idx+=1\n",
    "    \n",
    "#train_y=np.array(train_y).reshape(-1,action_space_len)"
   ]
  },
  {
   "cell_type": "code",
   "execution_count": null,
   "metadata": {},
   "outputs": [],
   "source": []
  },
  {
   "cell_type": "code",
   "execution_count": null,
   "metadata": {},
   "outputs": [],
   "source": []
  },
  {
   "cell_type": "code",
   "execution_count": 6,
   "metadata": {},
   "outputs": [
    {
     "name": "stdout",
     "output_type": "stream",
     "text": [
      "(30000, 210, 160, 3)\n",
      "(30000, 18)\n"
     ]
    }
   ],
   "source": [
    "print(train_x.shape)\n",
    "print(train_y.shape)"
   ]
  },
  {
   "cell_type": "code",
   "execution_count": 7,
   "metadata": {},
   "outputs": [
    {
     "name": "stdout",
     "output_type": "stream",
     "text": [
      "Model: \"sequential\"\n",
      "_________________________________________________________________\n",
      "Layer (type)                 Output Shape              Param #   \n",
      "=================================================================\n",
      "conv2d (Conv2D)              (None, 208, 158, 128)     3584      \n",
      "_________________________________________________________________\n",
      "max_pooling2d (MaxPooling2D) (None, 104, 79, 128)      0         \n",
      "_________________________________________________________________\n",
      "conv2d_1 (Conv2D)            (None, 102, 77, 256)      295168    \n",
      "_________________________________________________________________\n",
      "max_pooling2d_1 (MaxPooling2 (None, 51, 38, 256)       0         \n",
      "_________________________________________________________________\n",
      "conv2d_2 (Conv2D)            (None, 49, 36, 64)        147520    \n",
      "_________________________________________________________________\n",
      "flatten (Flatten)            (None, 112896)            0         \n",
      "_________________________________________________________________\n",
      "dense (Dense)                (None, 32)                3612704   \n",
      "_________________________________________________________________\n",
      "dropout (Dropout)            (None, 32)                0         \n",
      "_________________________________________________________________\n",
      "dense_1 (Dense)              (None, 18)                594       \n",
      "=================================================================\n",
      "Total params: 4,059,570\n",
      "Trainable params: 4,059,570\n",
      "Non-trainable params: 0\n",
      "_________________________________________________________________\n"
     ]
    }
   ],
   "source": [
    "model=tf.keras.Sequential([\n",
    "        tf.keras.layers.Conv2D(input_shape=(210,160,3),kernel_size=(3,3),filters=128),\n",
    "        tf.keras.layers.MaxPool2D(strides=(2,2)),\n",
    "        tf.keras.layers.Conv2D(kernel_size=(3,3),filters=256),\n",
    "        tf.keras.layers.MaxPool2D(strides=(2,2)),\n",
    "        tf.keras.layers.Conv2D(kernel_size=(3,3),filters=64),\n",
    "        tf.keras.layers.Flatten(),\n",
    "        tf.keras.layers.Dense(units=32,activation='relu'),\n",
    "        tf.keras.layers.Dropout(rate=0.3),\n",
    "        tf.keras.layers.Dense(18,activation='softmax')\n",
    "    ])\n",
    "model.compile(optimizer=tf.optimizers.Adam(), \n",
    "              loss='sparse_categorical_crossentropy', \n",
    "              metrics=['accuracy'])\n",
    "model.summary()\n"
   ]
  },
  {
   "cell_type": "code",
   "execution_count": 8,
   "metadata": {},
   "outputs": [
    {
     "name": "stdout",
     "output_type": "stream",
     "text": [
      "[[0.0000000e+00 0.0000000e+00 0.0000000e+00 0.0000000e+00 0.0000000e+00\n",
      "  2.1327717e-32 1.0000000e+00 0.0000000e+00 0.0000000e+00 0.0000000e+00\n",
      "  0.0000000e+00 0.0000000e+00 0.0000000e+00 0.0000000e+00 0.0000000e+00\n",
      "  0.0000000e+00 0.0000000e+00 1.2863734e-38]]\n"
     ]
    }
   ],
   "source": [
    "testval=model.predict(train_x[0].reshape(-1,210,160,3))\n",
    "print(testval)"
   ]
  },
  {
   "cell_type": "code",
   "execution_count": null,
   "metadata": {},
   "outputs": [],
   "source": [
    "hist=model.fit(train_x,train_y,epochs=10, validation_split=0.25)"
   ]
  },
  {
   "cell_type": "code",
   "execution_count": null,
   "metadata": {},
   "outputs": [],
   "source": []
  }
 ],
 "metadata": {
  "kernelspec": {
   "display_name": "Python 3",
   "language": "python",
   "name": "python3"
  },
  "language_info": {
   "codemirror_mode": {
    "name": "ipython",
    "version": 3
   },
   "file_extension": ".py",
   "mimetype": "text/x-python",
   "name": "python",
   "nbconvert_exporter": "python",
   "pygments_lexer": "ipython3",
   "version": "3.6.9"
  }
 },
 "nbformat": 4,
 "nbformat_minor": 4
}
