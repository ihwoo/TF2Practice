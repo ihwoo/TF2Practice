{
 "cells": [
  {
   "cell_type": "code",
   "execution_count": 2,
   "metadata": {},
   "outputs": [],
   "source": [
    "import tensorflow as tf\n",
    "import gym\n",
    "from IPython.display import clear_output\n",
    "import time\n",
    "import numpy as np"
   ]
  },
  {
   "cell_type": "code",
   "execution_count": 59,
   "metadata": {},
   "outputs": [
    {
     "name": "stdout",
     "output_type": "stream",
     "text": [
      "Discrete(18)\n"
     ]
    }
   ],
   "source": [
    "env=gym.make('Alien-v0')\n",
    "obs=env.reset()\n",
    "print(env.action_space)"
   ]
  },
  {
   "cell_type": "code",
   "execution_count": 47,
   "metadata": {
    "scrolled": true
   },
   "outputs": [],
   "source": [
    "from PIL import Image\n",
    "resize_x=64\n",
    "resize_y=64\n",
    "def preprocessing(obs):\n",
    "    buf=[]\n",
    "    for i in range(len(obs)):\n",
    "        xbuf=[]\n",
    "        for j in range(len(obs[i])):\n",
    "            gray_pixel=obs[i][j][0]*0.299+obs[i][j][1]+0.587+obs[i][j][2]*0.114\n",
    "            xbuf.append(gray_pixel)\n",
    "        buf.append(xbuf)\n",
    "    nparr=np.array(buf)\n",
    "    image=Image.fromarray(nparr).resize((resize_x,resize_y))\n",
    "    return image\n",
    "          \n",
    "def inqueue(queue,obs,que_size):\n",
    "    queue.append(preprocessing(obs))\n",
    "    if len(queue)>4:\n",
    "        queue.pop(0)\n",
    "    return queue\n",
    "#test code"
   ]
  },
  {
   "cell_type": "code",
   "execution_count": 58,
   "metadata": {},
   "outputs": [
    {
     "name": "stdout",
     "output_type": "stream",
     "text": [
      "score>0.0\tstep>11\n"
     ]
    },
    {
     "data": {
      "image/png": "[encoded data removed]",
      "text/plain": [
       "<Figure size 432x288 with 4 Axes>"
      ]
     },
     "metadata": {
      "needs_background": "light"
     },
     "output_type": "display_data"
    }
   ],
   "source": [
    "#Random Agent\n",
    "score=0\n",
    "step=0\n",
    "rewards=[]\n",
    "frame_queue=[]\n",
    "queue_size=4\n",
    "\n",
    "while True:\n",
    "    action=env.action_space.sample()\n",
    "    obs,reward,done,info=env.step(action)\n",
    "    frame_queue=inqueue(frame_queue,obs,queue_size)\n",
    "    \n",
    "    score+=reward\n",
    "    rewards.append(reward)\n",
    "    step+=1\n",
    "    if done:\n",
    "        break\n",
    "\n",
    "print(f'score>{score}\\tstep>{step}')\n",
    "\n",
    "import matplotlib.pyplot as plt\n",
    "for i in range(len(frame_queue)):\n",
    "    \n",
    "    plt.subplot(len(frame_queue)+1,1,i+1)\n",
    "    plt.imshow(np.asarray(frame_queue[0]),cmap='gray')\n",
    "plt.show()"
   ]
  },
  {
   "cell_type": "code",
   "execution_count": null,
   "metadata": {},
   "outputs": [],
   "source": [
    "model=tf.keras.Sequential([\n",
    "        tf.keras.layers.Conv2D(input_shape=(resize_x,resize_y,queue_size), kernel_size=(8,8), filters=16),\n",
    "        tf.keras.layers.MaxPool2D(strides=(2,2)),\n",
    "        tf.keras.layers.Conv2D(kernel_size=(4,4),filters=32),\n",
    "        tf.keras.layers.Flatten(),\n",
    "        tf.keras.layers.Dense(units=256, activation='relu'),\n",
    "        tf.keras.layers.Dense(units=18, activation='softmax')\n",
    "])\n"
   ]
  },
  {
   "cell_type": "markdown",
   "metadata": {},
   "source": [
    "import matplotlib.pyplot as plt\n",
    "plt.figure(figsize=(10,10))\n",
    "\n",
    "pix_size=10\n",
    "max_len=int(len(obs)/pix_size*len(obs[i])/pix_size)\n",
    "for i in range(int(len(obs)/pix_size)):\n",
    "    for j in range(int(len(obs[i])/pix_size)):\n",
    "        idx=i*21+j+1\n",
    "        if idx > max_len:\n",
    "            break\n",
    "        buf=[]\n",
    "        for k in range(pix_size):\n",
    "            xbuf=[]\n",
    "            for l in range(pix_size):\n",
    "                xbuf.append(obs[i*10+k][j*10+l])\n",
    "            buf.append(xbuf)\n",
    "        \n",
    "        plt.subplot(21,16,idx,label=np.mean(buf))\n",
    "        plt.imshow(buf)\n",
    "    \n",
    "plt.show()"
   ]
  },
  {
   "cell_type": "code",
   "execution_count": 5,
   "metadata": {},
   "outputs": [],
   "source": [
    "scores=[]\n",
    "train_datas=[]\n",
    "accepted_scores=[]"
   ]
  },
  {
   "cell_type": "code",
   "execution_count": 6,
   "metadata": {},
   "outputs": [
    {
     "name": "stdout",
     "output_type": "stream",
     "text": [
      "action space > Discrete(18)\n",
      "action > 2\n",
      "(210, 160, 3)\n"
     ]
    }
   ],
   "source": [
    "print(f'action space > {env.action_space}')\n",
    "print(f'action > {action}')\n",
    "print(env.observation_space.shape)\n",
    "#print(f'step > {step}')\n",
    "#print(f'obs_space > {env.observation_space}')\n",
    "#print(f'obs_space > {env.observation_space.high}')\n",
    "#print(f'obs_space > {env.observation_space.low}')"
   ]
  },
  {
   "cell_type": "code",
   "execution_count": 7,
   "metadata": {},
   "outputs": [
    {
     "name": "stdout",
     "output_type": "stream",
     "text": [
      "<class 'list'>\n",
      "<class 'numpy.ndarray'>\n",
      "-719.52\n"
     ]
    }
   ],
   "source": [
    "\n",
    "required_score=-150000\n",
    "eps=50\n",
    "for i in range(eps):\n",
    "    \n",
    "    step=0\n",
    "    score=0\n",
    "    env.reset()    \n",
    "    game_memory=[]\n",
    "    prev_obs=[]\n",
    "    for j in range(env._max_episode_steps):\n",
    "        action=env.action_space.sample()\n",
    "        obs,reward,done,info=env.step(action)\n",
    "        ###########################################\n",
    "        #reward=0\n",
    "        #############################################\n",
    "        #env.render()\n",
    "        #clear_output(wait=False)\n",
    "        #print(f'state> {obs}\\nreward >{reward}\\naction > {action}\\n info >{info}')\n",
    "        reward-=1\n",
    "        if len(prev_obs)>0:\n",
    "            game_memory.append([prev_obs,action])\n",
    "        prev_obs=obs\n",
    "        \n",
    "        step+=1\n",
    "        score+=reward\n",
    "        #if j%100==0:\n",
    "        #    print(f'epoches >{i}\\tstep> {step}\\tscore >{score}')            \n",
    "        if done:\n",
    "            break;\n",
    "    scores.append(score)\n",
    "    if score>required_score :\n",
    "        accepted_scores.append(score)\n",
    "        for data in game_memory:\n",
    "            train_datas.append(data)\n",
    "print(type(scores))\n",
    "scores=np.array(scores)\n",
    "print(type(scores))\n",
    "print(scores.mean())"
   ]
  },
  {
   "cell_type": "code",
   "execution_count": 8,
   "metadata": {},
   "outputs": [
    {
     "data": {
      "text/plain": [
       "<seaborn.axisgrid.FacetGrid at 0x7efcc1b16ac8>"
      ]
     },
     "execution_count": 8,
     "metadata": {},
     "output_type": "execute_result"
    },
    {
     "data": {
      "image/png": "[encoded data removed]",
      "text/plain": [
       "<Figure size 360x360 with 1 Axes>"
      ]
     },
     "metadata": {
      "needs_background": "light"
     },
     "output_type": "display_data"
    }
   ],
   "source": [
    "import seaborn as sns\n",
    "sns.displot(scores,rug=True)"
   ]
  },
  {
   "cell_type": "code",
   "execution_count": 9,
   "metadata": {},
   "outputs": [
    {
     "name": "stdout",
     "output_type": "stream",
     "text": [
      "[[array([[[0, 0, 0],\n",
      "        [0, 0, 0],\n",
      "        [0, 0, 0],\n",
      "        ...,\n",
      "        [0, 0, 0],\n",
      "        [0, 0, 0],\n",
      "        [0, 0, 0]],\n",
      "\n",
      "       [[0, 0, 0],\n",
      "        [0, 0, 0],\n",
      "        [0, 0, 0],\n",
      "        ...,\n",
      "        [0, 0, 0],\n",
      "        [0, 0, 0],\n",
      "        [0, 0, 0]],\n",
      "\n",
      "       [[0, 0, 0],\n",
      "        [0, 0, 0],\n",
      "        [0, 0, 0],\n",
      "        ...,\n",
      "        [0, 0, 0],\n",
      "        [0, 0, 0],\n",
      "        [0, 0, 0]],\n",
      "\n",
      "       ...,\n",
      "\n",
      "       [[0, 0, 0],\n",
      "        [0, 0, 0],\n",
      "        [0, 0, 0],\n",
      "        ...,\n",
      "        [0, 0, 0],\n",
      "        [0, 0, 0],\n",
      "        [0, 0, 0]],\n",
      "\n",
      "       [[0, 0, 0],\n",
      "        [0, 0, 0],\n",
      "        [0, 0, 0],\n",
      "        ...,\n",
      "        [0, 0, 0],\n",
      "        [0, 0, 0],\n",
      "        [0, 0, 0]],\n",
      "\n",
      "       [[0, 0, 0],\n",
      "        [0, 0, 0],\n",
      "        [0, 0, 0],\n",
      "        ...,\n",
      "        [0, 0, 0],\n",
      "        [0, 0, 0],\n",
      "        [0, 0, 0]]], dtype=uint8), 12], [array([[[0, 0, 0],\n",
      "        [0, 0, 0],\n",
      "        [0, 0, 0],\n",
      "        ...,\n",
      "        [0, 0, 0],\n",
      "        [0, 0, 0],\n",
      "        [0, 0, 0]],\n",
      "\n",
      "       [[0, 0, 0],\n",
      "        [0, 0, 0],\n",
      "        [0, 0, 0],\n",
      "        ...,\n",
      "        [0, 0, 0],\n",
      "        [0, 0, 0],\n",
      "        [0, 0, 0]],\n",
      "\n",
      "       [[0, 0, 0],\n",
      "        [0, 0, 0],\n",
      "        [0, 0, 0],\n",
      "        ...,\n",
      "        [0, 0, 0],\n",
      "        [0, 0, 0],\n",
      "        [0, 0, 0]],\n",
      "\n",
      "       ...,\n",
      "\n",
      "       [[0, 0, 0],\n",
      "        [0, 0, 0],\n",
      "        [0, 0, 0],\n",
      "        ...,\n",
      "        [0, 0, 0],\n",
      "        [0, 0, 0],\n",
      "        [0, 0, 0]],\n",
      "\n",
      "       [[0, 0, 0],\n",
      "        [0, 0, 0],\n",
      "        [0, 0, 0],\n",
      "        ...,\n",
      "        [0, 0, 0],\n",
      "        [0, 0, 0],\n",
      "        [0, 0, 0]],\n",
      "\n",
      "       [[0, 0, 0],\n",
      "        [0, 0, 0],\n",
      "        [0, 0, 0],\n",
      "        ...,\n",
      "        [0, 0, 0],\n",
      "        [0, 0, 0],\n",
      "        [0, 0, 0]]], dtype=uint8), 8], [array([[[0, 0, 0],\n",
      "        [0, 0, 0],\n",
      "        [0, 0, 0],\n",
      "        ...,\n",
      "        [0, 0, 0],\n",
      "        [0, 0, 0],\n",
      "        [0, 0, 0]],\n",
      "\n",
      "       [[0, 0, 0],\n",
      "        [0, 0, 0],\n",
      "        [0, 0, 0],\n",
      "        ...,\n",
      "        [0, 0, 0],\n",
      "        [0, 0, 0],\n",
      "        [0, 0, 0]],\n",
      "\n",
      "       [[0, 0, 0],\n",
      "        [0, 0, 0],\n",
      "        [0, 0, 0],\n",
      "        ...,\n",
      "        [0, 0, 0],\n",
      "        [0, 0, 0],\n",
      "        [0, 0, 0]],\n",
      "\n",
      "       ...,\n",
      "\n",
      "       [[0, 0, 0],\n",
      "        [0, 0, 0],\n",
      "        [0, 0, 0],\n",
      "        ...,\n",
      "        [0, 0, 0],\n",
      "        [0, 0, 0],\n",
      "        [0, 0, 0]],\n",
      "\n",
      "       [[0, 0, 0],\n",
      "        [0, 0, 0],\n",
      "        [0, 0, 0],\n",
      "        ...,\n",
      "        [0, 0, 0],\n",
      "        [0, 0, 0],\n",
      "        [0, 0, 0]],\n",
      "\n",
      "       [[0, 0, 0],\n",
      "        [0, 0, 0],\n",
      "        [0, 0, 0],\n",
      "        ...,\n",
      "        [0, 0, 0],\n",
      "        [0, 0, 0],\n",
      "        [0, 0, 0]]], dtype=uint8), 2], [array([[[0, 0, 0],\n",
      "        [0, 0, 0],\n",
      "        [0, 0, 0],\n",
      "        ...,\n",
      "        [0, 0, 0],\n",
      "        [0, 0, 0],\n",
      "        [0, 0, 0]],\n",
      "\n",
      "       [[0, 0, 0],\n",
      "        [0, 0, 0],\n",
      "        [0, 0, 0],\n",
      "        ...,\n",
      "        [0, 0, 0],\n",
      "        [0, 0, 0],\n",
      "        [0, 0, 0]],\n",
      "\n",
      "       [[0, 0, 0],\n",
      "        [0, 0, 0],\n",
      "        [0, 0, 0],\n",
      "        ...,\n",
      "        [0, 0, 0],\n",
      "        [0, 0, 0],\n",
      "        [0, 0, 0]],\n",
      "\n",
      "       ...,\n",
      "\n",
      "       [[0, 0, 0],\n",
      "        [0, 0, 0],\n",
      "        [0, 0, 0],\n",
      "        ...,\n",
      "        [0, 0, 0],\n",
      "        [0, 0, 0],\n",
      "        [0, 0, 0]],\n",
      "\n",
      "       [[0, 0, 0],\n",
      "        [0, 0, 0],\n",
      "        [0, 0, 0],\n",
      "        ...,\n",
      "        [0, 0, 0],\n",
      "        [0, 0, 0],\n",
      "        [0, 0, 0]],\n",
      "\n",
      "       [[0, 0, 0],\n",
      "        [0, 0, 0],\n",
      "        [0, 0, 0],\n",
      "        ...,\n",
      "        [0, 0, 0],\n",
      "        [0, 0, 0],\n",
      "        [0, 0, 0]]], dtype=uint8), 12], [array([[[0, 0, 0],\n",
      "        [0, 0, 0],\n",
      "        [0, 0, 0],\n",
      "        ...,\n",
      "        [0, 0, 0],\n",
      "        [0, 0, 0],\n",
      "        [0, 0, 0]],\n",
      "\n",
      "       [[0, 0, 0],\n",
      "        [0, 0, 0],\n",
      "        [0, 0, 0],\n",
      "        ...,\n",
      "        [0, 0, 0],\n",
      "        [0, 0, 0],\n",
      "        [0, 0, 0]],\n",
      "\n",
      "       [[0, 0, 0],\n",
      "        [0, 0, 0],\n",
      "        [0, 0, 0],\n",
      "        ...,\n",
      "        [0, 0, 0],\n",
      "        [0, 0, 0],\n",
      "        [0, 0, 0]],\n",
      "\n",
      "       ...,\n",
      "\n",
      "       [[0, 0, 0],\n",
      "        [0, 0, 0],\n",
      "        [0, 0, 0],\n",
      "        ...,\n",
      "        [0, 0, 0],\n",
      "        [0, 0, 0],\n",
      "        [0, 0, 0]],\n",
      "\n",
      "       [[0, 0, 0],\n",
      "        [0, 0, 0],\n",
      "        [0, 0, 0],\n",
      "        ...,\n",
      "        [0, 0, 0],\n",
      "        [0, 0, 0],\n",
      "        [0, 0, 0]],\n",
      "\n",
      "       [[0, 0, 0],\n",
      "        [0, 0, 0],\n",
      "        [0, 0, 0],\n",
      "        ...,\n",
      "        [0, 0, 0],\n",
      "        [0, 0, 0],\n",
      "        [0, 0, 0]]], dtype=uint8), 6]]\n"
     ]
    }
   ],
   "source": [
    "print(train_datas[:5])"
   ]
  },
  {
   "cell_type": "code",
   "execution_count": 10,
   "metadata": {},
   "outputs": [
    {
     "name": "stdout",
     "output_type": "stream",
     "text": [
      "<class 'numpy.ndarray'>\n",
      "<class 'numpy.ndarray'>\n"
     ]
    }
   ],
   "source": [
    "train_datas=train_datas[:30000]\n",
    "train_x=np.array([i[0] for i in train_datas])\n",
    "print(type(train_x))\n",
    "train_y=np.array([i[1] for i in train_datas])\n",
    "print(type(train_y))\n",
    "\n",
    "#####################\n",
    "#train_x=train_x[:5000,-1,-1,-1]\n",
    "#train_y=train_y[:5000,-1]\n",
    "############3"
   ]
  },
  {
   "cell_type": "code",
   "execution_count": 11,
   "metadata": {},
   "outputs": [
    {
     "name": "stdout",
     "output_type": "stream",
     "text": [
      "(30000, 210, 160, 3)\n",
      "(30000, 1)\n"
     ]
    }
   ],
   "source": [
    "print(train_x.shape)\n",
    "train_y=train_y.reshape(-1,1)\n",
    "print(train_y.shape)"
   ]
  },
  {
   "cell_type": "code",
   "execution_count": null,
   "metadata": {},
   "outputs": [
    {
     "name": "stdout",
     "output_type": "stream",
     "text": [
      "Epoch 1/30\n",
      "1407/1407 [==============================] - 83s 59ms/step - loss: 8.6856 - accuracy: 0.0557 - val_loss: 2.8903 - val_accuracy: 0.0589\n",
      "Epoch 2/30\n",
      "1407/1407 [==============================] - 83s 59ms/step - loss: 2.8904 - accuracy: 0.0555 - val_loss: 2.8902 - val_accuracy: 0.0589\n",
      "Epoch 3/30\n",
      "1407/1407 [==============================] - 83s 59ms/step - loss: 2.8904 - accuracy: 0.0561 - val_loss: 2.8902 - val_accuracy: 0.0589\n",
      "Epoch 4/30\n",
      "1407/1407 [==============================] - 83s 59ms/step - loss: 2.8904 - accuracy: 0.0570 - val_loss: 2.8904 - val_accuracy: 0.0588\n",
      "Epoch 5/30\n",
      "1407/1407 [==============================] - 83s 59ms/step - loss: 2.8904 - accuracy: 0.0563 - val_loss: 2.8904 - val_accuracy: 0.0588\n",
      "Epoch 6/30\n",
      "1407/1407 [==============================] - 83s 59ms/step - loss: 2.8904 - accuracy: 0.0576 - val_loss: 2.8905 - val_accuracy: 0.0588\n",
      "Epoch 7/30\n",
      "1407/1407 [==============================] - 83s 59ms/step - loss: 2.8904 - accuracy: 0.0565 - val_loss: 2.8903 - val_accuracy: 0.0589\n",
      "Epoch 8/30\n",
      "1407/1407 [==============================] - 83s 59ms/step - loss: 2.8904 - accuracy: 0.0568 - val_loss: 2.8904 - val_accuracy: 0.0589\n",
      "Epoch 9/30\n",
      "1407/1407 [==============================] - 83s 59ms/step - loss: 2.8904 - accuracy: 0.0581 - val_loss: 2.8902 - val_accuracy: 0.0589\n",
      "Epoch 10/30\n",
      "1407/1407 [==============================] - 83s 59ms/step - loss: 2.8904 - accuracy: 0.0557 - val_loss: 2.8902 - val_accuracy: 0.0569\n",
      "Epoch 11/30\n",
      "1407/1407 [==============================] - 83s 59ms/step - loss: 2.8904 - accuracy: 0.0552 - val_loss: 2.8903 - val_accuracy: 0.0588\n",
      "Epoch 12/30\n",
      "1407/1407 [==============================] - 83s 59ms/step - loss: 2.8904 - accuracy: 0.0556 - val_loss: 2.8902 - val_accuracy: 0.0589\n",
      "Epoch 13/30\n",
      "1407/1407 [==============================] - 83s 59ms/step - loss: 2.8904 - accuracy: 0.0555 - val_loss: 2.8903 - val_accuracy: 0.0588\n",
      "Epoch 14/30\n",
      "1407/1407 [==============================] - 83s 59ms/step - loss: 2.8904 - accuracy: 0.0571 - val_loss: 2.8903 - val_accuracy: 0.0588\n",
      "Epoch 15/30\n",
      "1407/1407 [==============================] - 83s 59ms/step - loss: 2.8904 - accuracy: 0.0560 - val_loss: 2.8902 - val_accuracy: 0.0589\n",
      "Epoch 16/30\n",
      "1407/1407 [==============================] - 83s 59ms/step - loss: 2.8903 - accuracy: 0.0574 - val_loss: 2.8903 - val_accuracy: 0.0589\n",
      "Epoch 17/30\n",
      "1407/1407 [==============================] - 83s 59ms/step - loss: 2.8904 - accuracy: 0.0576 - val_loss: 2.8902 - val_accuracy: 0.0589\n",
      "Epoch 18/30\n",
      "1407/1407 [==============================] - 83s 59ms/step - loss: 2.8904 - accuracy: 0.0567 - val_loss: 2.8903 - val_accuracy: 0.0589\n",
      "Epoch 19/30\n",
      " 956/1407 [===================>..........] - ETA: 23s - loss: 2.8904 - accuracy: 0.0570"
     ]
    }
   ],
   "source": [
    "history=model.fit(train_x,train_y,epochs=30,batch_size=16, validation_split=0.25)"
   ]
  },
  {
   "cell_type": "code",
   "execution_count": null,
   "metadata": {},
   "outputs": [],
   "source": [
    "import matplotlib.pyplot as plt\n",
    "import seaborn as sns\n",
    "plt.plot(scores)\n",
    "plt.show()"
   ]
  },
  {
   "cell_type": "code",
   "execution_count": null,
   "metadata": {},
   "outputs": [],
   "source": [
    "import matplotlib.pyplot as plt\n",
    "plt.plot(history.history['accuracy'],'b-',label='accuracy')\n",
    "plt.plot(history.history['val_accuracy'],'r--',label='val_accuracy')\n",
    "plt.legend()\n",
    "plt.show()"
   ]
  },
  {
   "cell_type": "code",
   "execution_count": null,
   "metadata": {},
   "outputs": [],
   "source": [
    "scores=[]\n",
    "steps=[]\n",
    "actions=[]\n",
    "\n",
    "for i in range(5):\n",
    "    obs=env.reset()\n",
    "    score=0\n",
    "    step=0\n",
    "    for j in range(3000):\n",
    "        logit=model.predict(np.expand_dims(obs,axis=0))[0]\n",
    "        \n",
    "        print(logit)\n",
    "        action=np.argmax(logit)\n",
    "        obs,reward,done,info=env.step(action)\n",
    "        #env.render()\n",
    "        time.sleep(0.013)\n",
    "        score+=reward\n",
    "        step=j\n",
    "        if done :\n",
    "            break\n",
    "    print('epoch done')\n",
    "    scores.append(score)\n",
    "    steps.append(step)"
   ]
  },
  {
   "cell_type": "code",
   "execution_count": null,
   "metadata": {},
   "outputs": [],
   "source": [
    "\n",
    "plt.plot(scores)\n",
    "plt.show()"
   ]
  },
  {
   "cell_type": "code",
   "execution_count": null,
   "metadata": {},
   "outputs": [],
   "source": [
    "model.save('Alien-v0-test.h5')"
   ]
  },
  {
   "cell_type": "code",
   "execution_count": null,
   "metadata": {},
   "outputs": [],
   "source": []
  }
 ],
 "metadata": {
  "kernelspec": {
   "display_name": "Python 3",
   "language": "python",
   "name": "python3"
  },
  "language_info": {
   "codemirror_mode": {
    "name": "ipython",
    "version": 3
   },
   "file_extension": ".py",
   "mimetype": "text/x-python",
   "name": "python",
   "nbconvert_exporter": "python",
   "pygments_lexer": "ipython3",
   "version": "3.6.9"
  }
 },
 "nbformat": 4,
 "nbformat_minor": 2
}
