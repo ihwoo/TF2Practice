{
 "cells": [
  {
   "cell_type": "code",
   "execution_count": 1,
   "metadata": {},
   "outputs": [],
   "source": [
    "import tensorflow as tf\n",
    "import gym\n",
    "from IPython.display import clear_output\n",
    "import time\n",
    "import numpy as np"
   ]
  },
  {
   "cell_type": "code",
   "execution_count": 2,
   "metadata": {},
   "outputs": [
    {
     "name": "stdout",
     "output_type": "stream",
     "text": [
      "Discrete(18)\n"
     ]
    }
   ],
   "source": [
    "env=gym.make('Alien-v0')\n",
    "obs=env.reset()\n",
    "print(env.action_space)"
   ]
  },
  {
   "cell_type": "code",
   "execution_count": 3,
   "metadata": {
    "scrolled": true
   },
   "outputs": [],
   "source": [
    "from PIL import Image\n",
    "resize_x=64\n",
    "resize_y=64\n",
    "def preprocessing(obs):\n",
    "    buf=[]\n",
    "    for i in range(len(obs)):\n",
    "        xbuf=[]\n",
    "        for j in range(len(obs[i])):\n",
    "            gray_pixel=obs[i][j][0]*0.299+obs[i][j][1]+0.587+obs[i][j][2]*0.114\n",
    "            xbuf.append(gray_pixel)\n",
    "        buf.append(xbuf)\n",
    "    #return np.array(buf)\n",
    "    nparr=np.array(buf)\n",
    "    image=Image.fromarray(nparr).resize((resize_x,resize_y))\n",
    "    return np.array(image)#image\n",
    "          \n",
    "def inqueue(queue,obs,que_size):\n",
    "    queue.append(obs)\n",
    "    if len(queue)>4:\n",
    "        queue.pop(0)\n",
    "    return queue\n",
    "#test code"
   ]
  },
  {
   "cell_type": "code",
   "execution_count": 4,
   "metadata": {},
   "outputs": [],
   "source": [
    "\n",
    "score=0\n",
    "step=0\n",
    "rewards=[]\n",
    "frame_queue=[]\n",
    "queue_size=4\n"
   ]
  },
  {
   "cell_type": "markdown",
   "metadata": {},
   "source": [
    "#Random Agent\n",
    "score=0\n",
    "step=0\n",
    "rewards=[]\n",
    "frame_queue=[]\n",
    "queue_size=4\n",
    "\n",
    "while True:\n",
    "    action=env.action_space.sample()\n",
    "    obs,reward,done,info=env.step(action)\n",
    "    #env.render()\n",
    "    frame_queue=inqueue(frame_queue,obs,queue_size)\n",
    "    \n",
    "    score+=reward\n",
    "    rewards.append(reward)\n",
    "    step+=1\n",
    "    if done:\n",
    "        break\n",
    "\n",
    "print(f'score>{score}\\tstep>{step}')\n",
    "\n",
    "import matplotlib.pyplot as plt\n",
    "for i in range(len(frame_queue)):\n",
    "    \n",
    "    plt.subplot(len(frame_queue)+1,1,i+1)\n",
    "    plt.imshow(np.asarray(frame_queue[0]),cmap='gray')\n",
    "plt.show()"
   ]
  },
  {
   "cell_type": "code",
   "execution_count": 8,
   "metadata": {},
   "outputs": [
    {
     "name": "stdout",
     "output_type": "stream",
     "text": [
      "Model: \"sequential_2\"\n",
      "_________________________________________________________________\n",
      "Layer (type)                 Output Shape              Param #   \n",
      "=================================================================\n",
      "conv2d_6 (Conv2D)            (None, 57, 57, 16)        4112      \n",
      "_________________________________________________________________\n",
      "max_pooling2d_4 (MaxPooling2 (None, 28, 28, 16)        0         \n",
      "_________________________________________________________________\n",
      "conv2d_7 (Conv2D)            (None, 25, 25, 32)        8224      \n",
      "_________________________________________________________________\n",
      "max_pooling2d_5 (MaxPooling2 (None, 12, 12, 32)        0         \n",
      "_________________________________________________________________\n",
      "conv2d_8 (Conv2D)            (None, 9, 9, 32)          16416     \n",
      "_________________________________________________________________\n",
      "flatten_2 (Flatten)          (None, 2592)              0         \n",
      "_________________________________________________________________\n",
      "dense_4 (Dense)              (None, 256)               663808    \n",
      "_________________________________________________________________\n",
      "dense_5 (Dense)              (None, 18)                4626      \n",
      "=================================================================\n",
      "Total params: 697,186\n",
      "Trainable params: 697,186\n",
      "Non-trainable params: 0\n",
      "_________________________________________________________________\n",
      "Model: \"sequential_3\"\n",
      "_________________________________________________________________\n",
      "Layer (type)                 Output Shape              Param #   \n",
      "=================================================================\n",
      "conv2d_9 (Conv2D)            (None, 57, 57, 16)        4112      \n",
      "_________________________________________________________________\n",
      "max_pooling2d_6 (MaxPooling2 (None, 28, 28, 16)        0         \n",
      "_________________________________________________________________\n",
      "conv2d_10 (Conv2D)           (None, 25, 25, 32)        8224      \n",
      "_________________________________________________________________\n",
      "max_pooling2d_7 (MaxPooling2 (None, 12, 12, 32)        0         \n",
      "_________________________________________________________________\n",
      "conv2d_11 (Conv2D)           (None, 9, 9, 32)          16416     \n",
      "_________________________________________________________________\n",
      "flatten_3 (Flatten)          (None, 2592)              0         \n",
      "_________________________________________________________________\n",
      "dense_6 (Dense)              (None, 256)               663808    \n",
      "_________________________________________________________________\n",
      "dense_7 (Dense)              (None, 18)                4626      \n",
      "=================================================================\n",
      "Total params: 697,186\n",
      "Trainable params: 697,186\n",
      "Non-trainable params: 0\n",
      "_________________________________________________________________\n"
     ]
    }
   ],
   "source": [
    "def xyz2zxy(xyzArray):\n",
    "    zxyArray=np.zeros((len(xyzArray[0]),len(xyzArray[0][0]),len(xyzArray)))\n",
    "    for i in range(len(xyzArray)):\n",
    "        for j in range(len(xyzArray[i])):\n",
    "            for k in range(len(xyzArray[i][j])):\n",
    "                zxyArray[j][k][i]=xyzArray[i][j][k]\n",
    "    return zxyArray\n",
    "def buildmodel():\n",
    "    model=tf.keras.Sequential([\n",
    "            tf.keras.layers.Conv2D(input_shape=(resize_x,resize_y,queue_size,), kernel_size=(8,8), filters=16),\n",
    "            tf.keras.layers.MaxPool2D(strides=(2,2)),\n",
    "            tf.keras.layers.Conv2D(kernel_size=(4,4),filters=32),\n",
    "            tf.keras.layers.MaxPool2D(strides=(2,2)),\n",
    "            tf.keras.layers.Conv2D(kernel_size=(4,4),filters=32),\n",
    "            tf.keras.layers.Flatten(),\n",
    "            tf.keras.layers.Dense(units=256, activation='relu'),\n",
    "            tf.keras.layers.Dense(units=18, activation='softmax')\n",
    "        ])\n",
    "    model.compile(optimizer=tf.optimizers.Adam(),\n",
    "                  loss='sparse_categorical_crossentropy', \n",
    "                  metrics=['accuracy'])\n",
    "    return model\n",
    "model=buildmodel()\n",
    "target_model=buildmodel()\n",
    "model.summary()\n",
    "target_model.summary()"
   ]
  },
  {
   "cell_type": "code",
   "execution_count": 9,
   "metadata": {},
   "outputs": [],
   "source": [
    "gamma=0.9\n",
    "batch_size=512\n",
    "max_memory=batch_size*16\n",
    "memory=[]\n",
    "\n",
    "def append_sample(mem,state,action,reward,next_state,done):\n",
    "    mem.append([state,action,reward,next_state,done])\n",
    "    \n",
    "def train_model(c_model,t_model):\n",
    "    np.random.shuffle(memory)\n",
    "    lenth=max_memory//batch_size\n",
    "    for i in length:\n",
    "        mini_batch=memory[k*batch_size:(k+1)*batch_size]\n",
    "        states=np.zeros((batch_size,resize_x,resize_y,queue_size))\n",
    "        next_states=np.zeros((batch_size,resize_x,resize_y,queue_size))\n",
    "        actions,rewards,dones=[],[],[]\n",
    "        \n",
    "        \n",
    "        for i in range(batch_size):\n",
    "            states[i]=mini_batch[i][0]\n",
    "            actions.append(mini_batch[i][1])\n",
    "            rewards.append(mini_batch[i][2])\n",
    "            next_states[i]=mini_batch[i][3]\n",
    "            dones.append(mini_batch[i][4])\n",
    "            \n",
    "        target=c_model.predict(states)\n",
    "        next_target=t_model.predict(next_states)\n",
    "        \n",
    "        for i in range(batch_size):\n",
    "            if dones[i]:\n",
    "                target[i][actions[i]]=rewards[i]\n",
    "            else:\n",
    "                target[i][actions[i]]=rewards[i]+gamma*np.amax(next_target[i])\n",
    "        model.fit(states,target,batch_size=batch_size,epochs=2,verbose=0)"
   ]
  },
  {
   "cell_type": "code",
   "execution_count": 11,
   "metadata": {},
   "outputs": [
    {
     "name": "stdout",
     "output_type": "stream",
     "text": [
      "10000\n",
      "0\tscore mean>nan\tstep mean>nan\titeration>0\tepsilon>0.9\n",
      "0\tScore>0.0\tStep>547\tMax_tile>252\tmemory_len>778\n",
      "1\tscore mean>0.0\tstep mean>547.0\titeration>547\tepsilon>0.9\n"
     ]
    },
    {
     "ename": "KeyboardInterrupt",
     "evalue": "",
     "output_type": "error",
     "traceback": [
      "\u001b[0;31m---------------------------------------------------------------------------\u001b[0m",
      "\u001b[0;31mKeyboardInterrupt\u001b[0m                         Traceback (most recent call last)",
      "\u001b[0;32m<ipython-input-11-656a68a1cb58>\u001b[0m in \u001b[0;36m<module>\u001b[0;34m\u001b[0m\n\u001b[1;32m     35\u001b[0m             \u001b[0maction\u001b[0m\u001b[0;34m=\u001b[0m\u001b[0mnp\u001b[0m\u001b[0;34m.\u001b[0m\u001b[0margmax\u001b[0m\u001b[0;34m(\u001b[0m\u001b[0mprob\u001b[0m\u001b[0;34m)\u001b[0m\u001b[0;34m\u001b[0m\u001b[0;34m\u001b[0m\u001b[0m\n\u001b[1;32m     36\u001b[0m         \u001b[0mobs\u001b[0m\u001b[0;34m,\u001b[0m\u001b[0mreward\u001b[0m\u001b[0;34m,\u001b[0m\u001b[0mdone\u001b[0m\u001b[0;34m,\u001b[0m\u001b[0minfo\u001b[0m\u001b[0;34m=\u001b[0m\u001b[0menv\u001b[0m\u001b[0;34m.\u001b[0m\u001b[0mstep\u001b[0m\u001b[0;34m(\u001b[0m\u001b[0;34m[\u001b[0m\u001b[0maction\u001b[0m\u001b[0;34m]\u001b[0m\u001b[0;34m)\u001b[0m\u001b[0;34m\u001b[0m\u001b[0;34m\u001b[0m\u001b[0m\n\u001b[0;32m---> 37\u001b[0;31m         \u001b[0mprocessing_obs\u001b[0m\u001b[0;34m=\u001b[0m\u001b[0mpreprocessing\u001b[0m\u001b[0;34m(\u001b[0m\u001b[0mobs\u001b[0m\u001b[0;34m)\u001b[0m\u001b[0;34m\u001b[0m\u001b[0;34m\u001b[0m\u001b[0m\n\u001b[0m\u001b[1;32m     38\u001b[0m         \u001b[0mframe_queue\u001b[0m\u001b[0;34m=\u001b[0m\u001b[0minqueue\u001b[0m\u001b[0;34m(\u001b[0m\u001b[0mframe_queue\u001b[0m\u001b[0;34m,\u001b[0m\u001b[0mprocessing_obs\u001b[0m\u001b[0;34m,\u001b[0m\u001b[0mqueue_size\u001b[0m\u001b[0;34m)\u001b[0m\u001b[0;34m\u001b[0m\u001b[0;34m\u001b[0m\u001b[0m\n\u001b[1;32m     39\u001b[0m         \u001b[0mscore\u001b[0m\u001b[0;34m+=\u001b[0m\u001b[0mreward\u001b[0m\u001b[0;34m\u001b[0m\u001b[0;34m\u001b[0m\u001b[0m\n",
      "\u001b[0;32m<ipython-input-3-02d486474714>\u001b[0m in \u001b[0;36mpreprocessing\u001b[0;34m(obs)\u001b[0m\n\u001b[1;32m      7\u001b[0m         \u001b[0mxbuf\u001b[0m\u001b[0;34m=\u001b[0m\u001b[0;34m[\u001b[0m\u001b[0;34m]\u001b[0m\u001b[0;34m\u001b[0m\u001b[0;34m\u001b[0m\u001b[0m\n\u001b[1;32m      8\u001b[0m         \u001b[0;32mfor\u001b[0m \u001b[0mj\u001b[0m \u001b[0;32min\u001b[0m \u001b[0mrange\u001b[0m\u001b[0;34m(\u001b[0m\u001b[0mlen\u001b[0m\u001b[0;34m(\u001b[0m\u001b[0mobs\u001b[0m\u001b[0;34m[\u001b[0m\u001b[0mi\u001b[0m\u001b[0;34m]\u001b[0m\u001b[0;34m)\u001b[0m\u001b[0;34m)\u001b[0m\u001b[0;34m:\u001b[0m\u001b[0;34m\u001b[0m\u001b[0;34m\u001b[0m\u001b[0m\n\u001b[0;32m----> 9\u001b[0;31m             \u001b[0mgray_pixel\u001b[0m\u001b[0;34m=\u001b[0m\u001b[0mobs\u001b[0m\u001b[0;34m[\u001b[0m\u001b[0mi\u001b[0m\u001b[0;34m]\u001b[0m\u001b[0;34m[\u001b[0m\u001b[0mj\u001b[0m\u001b[0;34m]\u001b[0m\u001b[0;34m[\u001b[0m\u001b[0;36m0\u001b[0m\u001b[0;34m]\u001b[0m\u001b[0;34m*\u001b[0m\u001b[0;36m0.299\u001b[0m\u001b[0;34m+\u001b[0m\u001b[0mobs\u001b[0m\u001b[0;34m[\u001b[0m\u001b[0mi\u001b[0m\u001b[0;34m]\u001b[0m\u001b[0;34m[\u001b[0m\u001b[0mj\u001b[0m\u001b[0;34m]\u001b[0m\u001b[0;34m[\u001b[0m\u001b[0;36m1\u001b[0m\u001b[0;34m]\u001b[0m\u001b[0;34m+\u001b[0m\u001b[0;36m0.587\u001b[0m\u001b[0;34m+\u001b[0m\u001b[0mobs\u001b[0m\u001b[0;34m[\u001b[0m\u001b[0mi\u001b[0m\u001b[0;34m]\u001b[0m\u001b[0;34m[\u001b[0m\u001b[0mj\u001b[0m\u001b[0;34m]\u001b[0m\u001b[0;34m[\u001b[0m\u001b[0;36m2\u001b[0m\u001b[0;34m]\u001b[0m\u001b[0;34m*\u001b[0m\u001b[0;36m0.114\u001b[0m\u001b[0;34m\u001b[0m\u001b[0;34m\u001b[0m\u001b[0m\n\u001b[0m\u001b[1;32m     10\u001b[0m             \u001b[0mxbuf\u001b[0m\u001b[0;34m.\u001b[0m\u001b[0mappend\u001b[0m\u001b[0;34m(\u001b[0m\u001b[0mgray_pixel\u001b[0m\u001b[0;34m)\u001b[0m\u001b[0;34m\u001b[0m\u001b[0;34m\u001b[0m\u001b[0m\n\u001b[1;32m     11\u001b[0m         \u001b[0mbuf\u001b[0m\u001b[0;34m.\u001b[0m\u001b[0mappend\u001b[0m\u001b[0;34m(\u001b[0m\u001b[0mxbuf\u001b[0m\u001b[0;34m)\u001b[0m\u001b[0;34m\u001b[0m\u001b[0;34m\u001b[0m\u001b[0m\n",
      "\u001b[0;31mKeyboardInterrupt\u001b[0m: "
     ]
    }
   ],
   "source": [
    "import random\n",
    "import math \n",
    "\n",
    "def softmax(logits):\n",
    "    exp_logits=np.exp(logits-np.max(logits))\n",
    "    sum_exp_logits=np.sum(exp_logits)\n",
    "    return exp_logits/sum_exp_logits\n",
    "max_episodes=1001\n",
    "epsilon=0.9\n",
    "epsilon_min=0.1\n",
    "\n",
    "scores=[]\n",
    "steps=[]\n",
    "iteration=0\n",
    "train_count=0\n",
    "print(env._max_episode_steps)\n",
    "for i in range(max_episodes):\n",
    "    #if i%100==1 and i!=0:\n",
    "        #print(f'{i}\\tscore mean>{np.mean(scores[-100:])}\\tstep mean>{np.mean(steps[-100:])}\\titeration>{iteration}\\tepsilon>{epsilon}')\n",
    "    print(f'{i}\\tscore mean>{np.mean(scores[-100:])}\\tstep mean>{np.mean(steps[-100:])}\\titeration>{iteration}\\tepsilon>{epsilon}')\n",
    "    prev_obs=preprocessing(env.reset())\n",
    "    score=0\n",
    "    step=0\n",
    "    \n",
    "    \n",
    "    while step<env._max_episode_steps/10:\n",
    "        iteration+=1\n",
    "        if random.random()<epsilon and len(frame_queue)<4:\n",
    "            action=env.action_space.sample()\n",
    "        else:\n",
    "            x=prev_obs\n",
    "            val=np.expand_dims(xyz2zxy(frame_queue),axis=0)\n",
    "            logits=model.predict(val)\n",
    "            prob=softmax(logits)\n",
    "            action=np.argmax(prob)\n",
    "        obs,reward,done,info=env.step([action])\n",
    "        processing_obs=preprocessing(obs)\n",
    "        frame_queue=inqueue(frame_queue,processing_obs,queue_size)\n",
    "        score+=reward\n",
    "        step+=1\n",
    "        \n",
    "        #custom reward\n",
    "        append_sample(memory,prev_obs,action,reward,processing_obs,done)\n",
    "        \n",
    "        if len(memory)>=max_memory:\n",
    "            train_model(model,target_model)\n",
    "            memory=[]\n",
    "            train_count+=1\n",
    "            if train_count%4==0:\n",
    "                target_model.set_weights(model.get_weights())\n",
    "        prev_obs=processing_obs\n",
    "        if epsilon>0.01 and iteration%2500==0:\n",
    "            epsilon=epsilon/1.005\n",
    "        if done:\n",
    "            break\n",
    "    scores.append(score)\n",
    "    steps.append(step)\n",
    "    print(f'{i}\\tScore>{score}\\tStep>{step}\\tMax_tile>{np.max(obs)}\\tmemory_len>{len(memory)}')\n",
    "        "
   ]
  },
  {
   "cell_type": "markdown",
   "metadata": {},
   "source": [
    "import matplotlib.pyplot as plt\n",
    "plt.figure(figsize=(10,10))\n",
    "\n",
    "pix_size=10\n",
    "max_len=int(len(obs)/pix_size*len(obs[i])/pix_size)\n",
    "for i in range(int(len(obs)/pix_size)):\n",
    "    for j in range(int(len(obs[i])/pix_size)):\n",
    "        idx=i*21+j+1\n",
    "        if idx > max_len:\n",
    "            break\n",
    "        buf=[]\n",
    "        for k in range(pix_size):\n",
    "            xbuf=[]\n",
    "            for l in range(pix_size):\n",
    "                xbuf.append(obs[i*10+k][j*10+l])\n",
    "            buf.append(xbuf)\n",
    "        \n",
    "        plt.subplot(21,16,idx,label=np.mean(buf))\n",
    "        plt.imshow(buf)\n",
    "    \n",
    "plt.show()"
   ]
  },
  {
   "cell_type": "code",
   "execution_count": null,
   "metadata": {},
   "outputs": [],
   "source": [
    "import matplotlib.pyplot as plt\n",
    "N=10\n",
    "rolling_mean=[np.mean(scores[x:x+N]) for x in range(len(scores)-N+1)]\n",
    "plt.figure(figsize=(12,4))\n",
    "plt.subplot(1,2,1)\n",
    "plt.scatter(range(len(scores)),scores,marker='.')\n",
    "plt.subplot(1,2,2)\n",
    "plt.plot(rolling_mean)\n",
    "plt.show()"
   ]
  },
  {
   "cell_type": "code",
   "execution_count": null,
   "metadata": {},
   "outputs": [],
   "source": []
  },
  {
   "cell_type": "code",
   "execution_count": null,
   "metadata": {},
   "outputs": [],
   "source": []
  },
  {
   "cell_type": "code",
   "execution_count": null,
   "metadata": {},
   "outputs": [],
   "source": []
  },
  {
   "cell_type": "code",
   "execution_count": null,
   "metadata": {},
   "outputs": [],
   "source": []
  },
  {
   "cell_type": "code",
   "execution_count": null,
   "metadata": {},
   "outputs": [],
   "source": []
  },
  {
   "cell_type": "code",
   "execution_count": null,
   "metadata": {},
   "outputs": [],
   "source": []
  },
  {
   "cell_type": "code",
   "execution_count": null,
   "metadata": {},
   "outputs": [],
   "source": []
  },
  {
   "cell_type": "code",
   "execution_count": null,
   "metadata": {},
   "outputs": [],
   "source": []
  },
  {
   "cell_type": "code",
   "execution_count": null,
   "metadata": {},
   "outputs": [],
   "source": []
  },
  {
   "cell_type": "code",
   "execution_count": null,
   "metadata": {},
   "outputs": [],
   "source": []
  }
 ],
 "metadata": {
  "kernelspec": {
   "display_name": "Python 3",
   "language": "python",
   "name": "python3"
  },
  "language_info": {
   "codemirror_mode": {
    "name": "ipython",
    "version": 3
   },
   "file_extension": ".py",
   "mimetype": "text/x-python",
   "name": "python",
   "nbconvert_exporter": "python",
   "pygments_lexer": "ipython3",
   "version": "3.6.9"
  }
 },
 "nbformat": 4,
 "nbformat_minor": 2
}
