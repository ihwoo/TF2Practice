{
 "cells": [
  {
   "cell_type": "code",
   "execution_count": 1,
   "metadata": {},
   "outputs": [],
   "source": [
    "import tensorflow as tf\n",
    "import gym\n",
    "from IPython.display import clear_output\n",
    "import time\n",
    "import numpy as np"
   ]
  },
  {
   "cell_type": "code",
   "execution_count": 2,
   "metadata": {},
   "outputs": [],
   "source": [
    "env=gym.make('Alien-v0')\n",
    "obs=env.reset()"
   ]
  },
  {
   "cell_type": "code",
   "execution_count": 3,
   "metadata": {},
   "outputs": [],
   "source": [
    "action=env.action_space.sample()\n",
    "step=env.step(action)"
   ]
  },
  {
   "cell_type": "code",
   "execution_count": 4,
   "metadata": {},
   "outputs": [
    {
     "name": "stdout",
     "output_type": "stream",
     "text": [
      "Model: \"sequential\"\n",
      "_________________________________________________________________\n",
      "Layer (type)                 Output Shape              Param #   \n",
      "=================================================================\n",
      "conv2d (Conv2D)              (None, 208, 158, 128)     3584      \n",
      "_________________________________________________________________\n",
      "max_pooling2d (MaxPooling2D) (None, 104, 79, 128)      0         \n",
      "_________________________________________________________________\n",
      "conv2d_1 (Conv2D)            (None, 102, 77, 256)      295168    \n",
      "_________________________________________________________________\n",
      "max_pooling2d_1 (MaxPooling2 (None, 51, 38, 256)       0         \n",
      "_________________________________________________________________\n",
      "conv2d_2 (Conv2D)            (None, 49, 36, 256)       590080    \n",
      "_________________________________________________________________\n",
      "max_pooling2d_2 (MaxPooling2 (None, 24, 18, 256)       0         \n",
      "_________________________________________________________________\n",
      "conv2d_3 (Conv2D)            (None, 22, 16, 256)       590080    \n",
      "_________________________________________________________________\n",
      "max_pooling2d_3 (MaxPooling2 (None, 11, 8, 256)        0         \n",
      "_________________________________________________________________\n",
      "conv2d_4 (Conv2D)            (None, 9, 6, 64)          147520    \n",
      "_________________________________________________________________\n",
      "flatten (Flatten)            (None, 3456)              0         \n",
      "_________________________________________________________________\n",
      "dense (Dense)                (None, 32)                110624    \n",
      "_________________________________________________________________\n",
      "dropout (Dropout)            (None, 32)                0         \n",
      "_________________________________________________________________\n",
      "dense_1 (Dense)              (None, 18)                594       \n",
      "=================================================================\n",
      "Total params: 1,737,650\n",
      "Trainable params: 1,737,650\n",
      "Non-trainable params: 0\n",
      "_________________________________________________________________\n"
     ]
    }
   ],
   "source": [
    "model=tf.keras.Sequential([\n",
    "        tf.keras.layers.Conv2D(input_shape=(210,160,3),kernel_size=(3,3),filters=128),\n",
    "        tf.keras.layers.MaxPool2D(strides=(2,2)),\n",
    "        tf.keras.layers.Conv2D(kernel_size=(3,3),filters=256),\n",
    "        tf.keras.layers.MaxPool2D(strides=(2,2)),\n",
    "        tf.keras.layers.Conv2D(kernel_size=(3,3),filters=256),\n",
    "        tf.keras.layers.MaxPool2D(strides=(2,2)),\n",
    "        tf.keras.layers.Conv2D(kernel_size=(3,3),filters=256),\n",
    "        tf.keras.layers.MaxPool2D(strides=(2,2)),\n",
    "        tf.keras.layers.Conv2D(kernel_size=(3,3),filters=64),\n",
    "        tf.keras.layers.Flatten(),\n",
    "        tf.keras.layers.Dense(units=32,activation='relu'),\n",
    "        tf.keras.layers.Dropout(rate=0.3),\n",
    "        tf.keras.layers.Dense(18,activation='softmax')\n",
    "    ])\n",
    "model.compile(optimizer=tf.optimizers.Adam(), \n",
    "              loss='sparse_categorical_crossentropy', \n",
    "              metrics=['accuracy'])\n",
    "model.summary()"
   ]
  },
  {
   "cell_type": "code",
   "execution_count": 5,
   "metadata": {},
   "outputs": [],
   "source": [
    "scores=[]\n",
    "train_datas=[]\n",
    "accepted_scores=[]"
   ]
  },
  {
   "cell_type": "code",
   "execution_count": 6,
   "metadata": {},
   "outputs": [
    {
     "name": "stdout",
     "output_type": "stream",
     "text": [
      "action space > Discrete(18)\n",
      "action > 2\n",
      "(210, 160, 3)\n"
     ]
    }
   ],
   "source": [
    "print(f'action space > {env.action_space}')\n",
    "print(f'action > {action}')\n",
    "print(env.observation_space.shape)\n",
    "#print(f'step > {step}')\n",
    "#print(f'obs_space > {env.observation_space}')\n",
    "#print(f'obs_space > {env.observation_space.high}')\n",
    "#print(f'obs_space > {env.observation_space.low}')"
   ]
  },
  {
   "cell_type": "code",
   "execution_count": 7,
   "metadata": {},
   "outputs": [
    {
     "name": "stdout",
     "output_type": "stream",
     "text": [
      "<class 'list'>\n",
      "<class 'numpy.ndarray'>\n",
      "-719.52\n"
     ]
    }
   ],
   "source": [
    "\n",
    "required_score=-150000\n",
    "eps=50\n",
    "for i in range(eps):\n",
    "    \n",
    "    step=0\n",
    "    score=0\n",
    "    env.reset()    \n",
    "    game_memory=[]\n",
    "    prev_obs=[]\n",
    "    for j in range(env._max_episode_steps):\n",
    "        action=env.action_space.sample()\n",
    "        obs,reward,done,info=env.step(action)\n",
    "        ###########################################\n",
    "        #reward=0\n",
    "        #############################################\n",
    "        #env.render()\n",
    "        #clear_output(wait=False)\n",
    "        #print(f'state> {obs}\\nreward >{reward}\\naction > {action}\\n info >{info}')\n",
    "        reward-=1\n",
    "        if len(prev_obs)>0:\n",
    "            game_memory.append([prev_obs,action])\n",
    "        prev_obs=obs\n",
    "        \n",
    "        step+=1\n",
    "        score+=reward\n",
    "        #if j%100==0:\n",
    "        #    print(f'epoches >{i}\\tstep> {step}\\tscore >{score}')            \n",
    "        if done:\n",
    "            break;\n",
    "    scores.append(score)\n",
    "    if score>required_score :\n",
    "        accepted_scores.append(score)\n",
    "        for data in game_memory:\n",
    "            train_datas.append(data)\n",
    "print(type(scores))\n",
    "scores=np.array(scores)\n",
    "print(type(scores))\n",
    "print(scores.mean())"
   ]
  },
  {
   "cell_type": "code",
   "execution_count": 8,
   "metadata": {},
   "outputs": [
    {
     "data": {
      "text/plain": [
       "<seaborn.axisgrid.FacetGrid at 0x7efcc1b16ac8>"
      ]
     },
     "execution_count": 8,
     "metadata": {},
     "output_type": "execute_result"
    },
    {
     "data": {
      "image/png": "[encoded data removed]",
      "text/plain": [
       "<Figure size 360x360 with 1 Axes>"
      ]
     },
     "metadata": {
      "needs_background": "light"
     },
     "output_type": "display_data"
    }
   ],
   "source": [
    "import seaborn as sns\n",
    "sns.displot(scores,rug=True)"
   ]
  },
  {
   "cell_type": "code",
   "execution_count": 9,
   "metadata": {},
   "outputs": [
    {
     "name": "stdout",
     "output_type": "stream",
     "text": [
      "[[array([[[0, 0, 0],\n",
      "        [0, 0, 0],\n",
      "        [0, 0, 0],\n",
      "        ...,\n",
      "        [0, 0, 0],\n",
      "        [0, 0, 0],\n",
      "        [0, 0, 0]],\n",
      "\n",
      "       [[0, 0, 0],\n",
      "        [0, 0, 0],\n",
      "        [0, 0, 0],\n",
      "        ...,\n",
      "        [0, 0, 0],\n",
      "        [0, 0, 0],\n",
      "        [0, 0, 0]],\n",
      "\n",
      "       [[0, 0, 0],\n",
      "        [0, 0, 0],\n",
      "        [0, 0, 0],\n",
      "        ...,\n",
      "        [0, 0, 0],\n",
      "        [0, 0, 0],\n",
      "        [0, 0, 0]],\n",
      "\n",
      "       ...,\n",
      "\n",
      "       [[0, 0, 0],\n",
      "        [0, 0, 0],\n",
      "        [0, 0, 0],\n",
      "        ...,\n",
      "        [0, 0, 0],\n",
      "        [0, 0, 0],\n",
      "        [0, 0, 0]],\n",
      "\n",
      "       [[0, 0, 0],\n",
      "        [0, 0, 0],\n",
      "        [0, 0, 0],\n",
      "        ...,\n",
      "        [0, 0, 0],\n",
      "        [0, 0, 0],\n",
      "        [0, 0, 0]],\n",
      "\n",
      "       [[0, 0, 0],\n",
      "        [0, 0, 0],\n",
      "        [0, 0, 0],\n",
      "        ...,\n",
      "        [0, 0, 0],\n",
      "        [0, 0, 0],\n",
      "        [0, 0, 0]]], dtype=uint8), 12], [array([[[0, 0, 0],\n",
      "        [0, 0, 0],\n",
      "        [0, 0, 0],\n",
      "        ...,\n",
      "        [0, 0, 0],\n",
      "        [0, 0, 0],\n",
      "        [0, 0, 0]],\n",
      "\n",
      "       [[0, 0, 0],\n",
      "        [0, 0, 0],\n",
      "        [0, 0, 0],\n",
      "        ...,\n",
      "        [0, 0, 0],\n",
      "        [0, 0, 0],\n",
      "        [0, 0, 0]],\n",
      "\n",
      "       [[0, 0, 0],\n",
      "        [0, 0, 0],\n",
      "        [0, 0, 0],\n",
      "        ...,\n",
      "        [0, 0, 0],\n",
      "        [0, 0, 0],\n",
      "        [0, 0, 0]],\n",
      "\n",
      "       ...,\n",
      "\n",
      "       [[0, 0, 0],\n",
      "        [0, 0, 0],\n",
      "        [0, 0, 0],\n",
      "        ...,\n",
      "        [0, 0, 0],\n",
      "        [0, 0, 0],\n",
      "        [0, 0, 0]],\n",
      "\n",
      "       [[0, 0, 0],\n",
      "        [0, 0, 0],\n",
      "        [0, 0, 0],\n",
      "        ...,\n",
      "        [0, 0, 0],\n",
      "        [0, 0, 0],\n",
      "        [0, 0, 0]],\n",
      "\n",
      "       [[0, 0, 0],\n",
      "        [0, 0, 0],\n",
      "        [0, 0, 0],\n",
      "        ...,\n",
      "        [0, 0, 0],\n",
      "        [0, 0, 0],\n",
      "        [0, 0, 0]]], dtype=uint8), 8], [array([[[0, 0, 0],\n",
      "        [0, 0, 0],\n",
      "        [0, 0, 0],\n",
      "        ...,\n",
      "        [0, 0, 0],\n",
      "        [0, 0, 0],\n",
      "        [0, 0, 0]],\n",
      "\n",
      "       [[0, 0, 0],\n",
      "        [0, 0, 0],\n",
      "        [0, 0, 0],\n",
      "        ...,\n",
      "        [0, 0, 0],\n",
      "        [0, 0, 0],\n",
      "        [0, 0, 0]],\n",
      "\n",
      "       [[0, 0, 0],\n",
      "        [0, 0, 0],\n",
      "        [0, 0, 0],\n",
      "        ...,\n",
      "        [0, 0, 0],\n",
      "        [0, 0, 0],\n",
      "        [0, 0, 0]],\n",
      "\n",
      "       ...,\n",
      "\n",
      "       [[0, 0, 0],\n",
      "        [0, 0, 0],\n",
      "        [0, 0, 0],\n",
      "        ...,\n",
      "        [0, 0, 0],\n",
      "        [0, 0, 0],\n",
      "        [0, 0, 0]],\n",
      "\n",
      "       [[0, 0, 0],\n",
      "        [0, 0, 0],\n",
      "        [0, 0, 0],\n",
      "        ...,\n",
      "        [0, 0, 0],\n",
      "        [0, 0, 0],\n",
      "        [0, 0, 0]],\n",
      "\n",
      "       [[0, 0, 0],\n",
      "        [0, 0, 0],\n",
      "        [0, 0, 0],\n",
      "        ...,\n",
      "        [0, 0, 0],\n",
      "        [0, 0, 0],\n",
      "        [0, 0, 0]]], dtype=uint8), 2], [array([[[0, 0, 0],\n",
      "        [0, 0, 0],\n",
      "        [0, 0, 0],\n",
      "        ...,\n",
      "        [0, 0, 0],\n",
      "        [0, 0, 0],\n",
      "        [0, 0, 0]],\n",
      "\n",
      "       [[0, 0, 0],\n",
      "        [0, 0, 0],\n",
      "        [0, 0, 0],\n",
      "        ...,\n",
      "        [0, 0, 0],\n",
      "        [0, 0, 0],\n",
      "        [0, 0, 0]],\n",
      "\n",
      "       [[0, 0, 0],\n",
      "        [0, 0, 0],\n",
      "        [0, 0, 0],\n",
      "        ...,\n",
      "        [0, 0, 0],\n",
      "        [0, 0, 0],\n",
      "        [0, 0, 0]],\n",
      "\n",
      "       ...,\n",
      "\n",
      "       [[0, 0, 0],\n",
      "        [0, 0, 0],\n",
      "        [0, 0, 0],\n",
      "        ...,\n",
      "        [0, 0, 0],\n",
      "        [0, 0, 0],\n",
      "        [0, 0, 0]],\n",
      "\n",
      "       [[0, 0, 0],\n",
      "        [0, 0, 0],\n",
      "        [0, 0, 0],\n",
      "        ...,\n",
      "        [0, 0, 0],\n",
      "        [0, 0, 0],\n",
      "        [0, 0, 0]],\n",
      "\n",
      "       [[0, 0, 0],\n",
      "        [0, 0, 0],\n",
      "        [0, 0, 0],\n",
      "        ...,\n",
      "        [0, 0, 0],\n",
      "        [0, 0, 0],\n",
      "        [0, 0, 0]]], dtype=uint8), 12], [array([[[0, 0, 0],\n",
      "        [0, 0, 0],\n",
      "        [0, 0, 0],\n",
      "        ...,\n",
      "        [0, 0, 0],\n",
      "        [0, 0, 0],\n",
      "        [0, 0, 0]],\n",
      "\n",
      "       [[0, 0, 0],\n",
      "        [0, 0, 0],\n",
      "        [0, 0, 0],\n",
      "        ...,\n",
      "        [0, 0, 0],\n",
      "        [0, 0, 0],\n",
      "        [0, 0, 0]],\n",
      "\n",
      "       [[0, 0, 0],\n",
      "        [0, 0, 0],\n",
      "        [0, 0, 0],\n",
      "        ...,\n",
      "        [0, 0, 0],\n",
      "        [0, 0, 0],\n",
      "        [0, 0, 0]],\n",
      "\n",
      "       ...,\n",
      "\n",
      "       [[0, 0, 0],\n",
      "        [0, 0, 0],\n",
      "        [0, 0, 0],\n",
      "        ...,\n",
      "        [0, 0, 0],\n",
      "        [0, 0, 0],\n",
      "        [0, 0, 0]],\n",
      "\n",
      "       [[0, 0, 0],\n",
      "        [0, 0, 0],\n",
      "        [0, 0, 0],\n",
      "        ...,\n",
      "        [0, 0, 0],\n",
      "        [0, 0, 0],\n",
      "        [0, 0, 0]],\n",
      "\n",
      "       [[0, 0, 0],\n",
      "        [0, 0, 0],\n",
      "        [0, 0, 0],\n",
      "        ...,\n",
      "        [0, 0, 0],\n",
      "        [0, 0, 0],\n",
      "        [0, 0, 0]]], dtype=uint8), 6]]\n"
     ]
    }
   ],
   "source": [
    "print(train_datas[:5])"
   ]
  },
  {
   "cell_type": "code",
   "execution_count": 10,
   "metadata": {},
   "outputs": [
    {
     "name": "stdout",
     "output_type": "stream",
     "text": [
      "<class 'numpy.ndarray'>\n",
      "<class 'numpy.ndarray'>\n"
     ]
    }
   ],
   "source": [
    "train_datas=train_datas[:30000]\n",
    "train_x=np.array([i[0] for i in train_datas])\n",
    "print(type(train_x))\n",
    "train_y=np.array([i[1] for i in train_datas])\n",
    "print(type(train_y))\n",
    "\n",
    "#####################\n",
    "#train_x=train_x[:5000,-1,-1,-1]\n",
    "#train_y=train_y[:5000,-1]\n",
    "############3"
   ]
  },
  {
   "cell_type": "code",
   "execution_count": 11,
   "metadata": {},
   "outputs": [
    {
     "name": "stdout",
     "output_type": "stream",
     "text": [
      "(30000, 210, 160, 3)\n",
      "(30000, 1)\n"
     ]
    }
   ],
   "source": [
    "print(train_x.shape)\n",
    "train_y=train_y.reshape(-1,1)\n",
    "print(train_y.shape)"
   ]
  },
  {
   "cell_type": "code",
   "execution_count": null,
   "metadata": {},
   "outputs": [
    {
     "name": "stdout",
     "output_type": "stream",
     "text": [
      "Epoch 1/30\n",
      "1407/1407 [==============================] - 83s 59ms/step - loss: 8.6856 - accuracy: 0.0557 - val_loss: 2.8903 - val_accuracy: 0.0589\n",
      "Epoch 2/30\n",
      "1407/1407 [==============================] - 83s 59ms/step - loss: 2.8904 - accuracy: 0.0555 - val_loss: 2.8902 - val_accuracy: 0.0589\n",
      "Epoch 3/30\n",
      "1407/1407 [==============================] - 83s 59ms/step - loss: 2.8904 - accuracy: 0.0561 - val_loss: 2.8902 - val_accuracy: 0.0589\n",
      "Epoch 4/30\n",
      "1407/1407 [==============================] - 83s 59ms/step - loss: 2.8904 - accuracy: 0.0570 - val_loss: 2.8904 - val_accuracy: 0.0588\n",
      "Epoch 5/30\n",
      "1407/1407 [==============================] - 83s 59ms/step - loss: 2.8904 - accuracy: 0.0563 - val_loss: 2.8904 - val_accuracy: 0.0588\n",
      "Epoch 6/30\n",
      "1407/1407 [==============================] - 83s 59ms/step - loss: 2.8904 - accuracy: 0.0576 - val_loss: 2.8905 - val_accuracy: 0.0588\n",
      "Epoch 7/30\n",
      "1407/1407 [==============================] - 83s 59ms/step - loss: 2.8904 - accuracy: 0.0565 - val_loss: 2.8903 - val_accuracy: 0.0589\n",
      "Epoch 8/30\n",
      "1407/1407 [==============================] - 83s 59ms/step - loss: 2.8904 - accuracy: 0.0568 - val_loss: 2.8904 - val_accuracy: 0.0589\n",
      "Epoch 9/30\n",
      "1407/1407 [==============================] - 83s 59ms/step - loss: 2.8904 - accuracy: 0.0581 - val_loss: 2.8902 - val_accuracy: 0.0589\n",
      "Epoch 10/30\n",
      "1407/1407 [==============================] - 83s 59ms/step - loss: 2.8904 - accuracy: 0.0557 - val_loss: 2.8902 - val_accuracy: 0.0569\n",
      "Epoch 11/30\n",
      "1407/1407 [==============================] - 83s 59ms/step - loss: 2.8904 - accuracy: 0.0552 - val_loss: 2.8903 - val_accuracy: 0.0588\n",
      "Epoch 12/30\n",
      "1407/1407 [==============================] - 83s 59ms/step - loss: 2.8904 - accuracy: 0.0556 - val_loss: 2.8902 - val_accuracy: 0.0589\n",
      "Epoch 13/30\n",
      "1407/1407 [==============================] - 83s 59ms/step - loss: 2.8904 - accuracy: 0.0555 - val_loss: 2.8903 - val_accuracy: 0.0588\n",
      "Epoch 14/30\n",
      "1406/1407 [============================>.] - ETA: 0s - loss: 2.8904 - accuracy: 0.0571"
     ]
    }
   ],
   "source": [
    "history=model.fit(train_x,train_y,epochs=30,batch_size=16, validation_split=0.25)"
   ]
  },
  {
   "cell_type": "code",
   "execution_count": null,
   "metadata": {},
   "outputs": [],
   "source": [
    "import matplotlib.pyplot as plt\n",
    "import seaborn as sns\n",
    "plt.plot(scores)\n",
    "plt.show()"
   ]
  },
  {
   "cell_type": "code",
   "execution_count": null,
   "metadata": {},
   "outputs": [],
   "source": [
    "import matplotlib.pyplot as plt\n",
    "plt.plot(history.history['accuracy'],'b-',label='accuracy')\n",
    "plt.plot(history.history['val_accuracy'],'r--',label='val_accuracy')\n",
    "plt.legend()\n",
    "plt.show()"
   ]
  },
  {
   "cell_type": "code",
   "execution_count": null,
   "metadata": {},
   "outputs": [],
   "source": [
    "scores=[]\n",
    "steps=[]\n",
    "actions=[]\n",
    "\n",
    "for i in range(5):\n",
    "    obs=env.reset()\n",
    "    score=0\n",
    "    step=0\n",
    "    for j in range(3000):\n",
    "        logit=model.predict(np.expand_dims(obs,axis=0))[0]\n",
    "        \n",
    "        print(logit)\n",
    "        action=np.argmax(logit)\n",
    "        obs,reward,done,info=env.step(action)\n",
    "        #env.render()\n",
    "        time.sleep(0.013)\n",
    "        score+=reward\n",
    "        step=j\n",
    "        if done :\n",
    "            break\n",
    "    print('epoch done')\n",
    "    scores.append(score)\n",
    "    steps.append(step)"
   ]
  },
  {
   "cell_type": "code",
   "execution_count": null,
   "metadata": {},
   "outputs": [],
   "source": [
    "\n",
    "plt.plot(scores)\n",
    "plt.show()"
   ]
  },
  {
   "cell_type": "code",
   "execution_count": null,
   "metadata": {},
   "outputs": [],
   "source": [
    "model.save('Alien-v0-test.h5')"
   ]
  },
  {
   "cell_type": "code",
   "execution_count": null,
   "metadata": {},
   "outputs": [],
   "source": []
  }
 ],
 "metadata": {
  "kernelspec": {
   "display_name": "Python 3",
   "language": "python",
   "name": "python3"
  },
  "language_info": {
   "codemirror_mode": {
    "name": "ipython",
    "version": 3
   },
   "file_extension": ".py",
   "mimetype": "text/x-python",
   "name": "python",
   "nbconvert_exporter": "python",
   "pygments_lexer": "ipython3",
   "version": "3.6.9"
  }
 },
 "nbformat": 4,
 "nbformat_minor": 2
}
