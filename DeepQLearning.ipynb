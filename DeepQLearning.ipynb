{
 "cells": [
  {
   "cell_type": "code",
   "execution_count": 1,
   "metadata": {},
   "outputs": [
    {
     "name": "stdout",
     "output_type": "stream",
     "text": [
      "[[0 0 0 0]\n",
      " [0 0 0 0]\n",
      " [0 0 0 0]\n",
      " [0 2 0 2]]\n",
      "Box(2, 4294967296, (4, 4), int64)\n",
      "Discrete(4)\n",
      "[[0 0 0 0]\n",
      " [0 0 0 0]\n",
      " [0 2 0 0]\n",
      " [4 0 0 0]]\n"
     ]
    },
    {
     "name": "stderr",
     "output_type": "stream",
     "text": [
      "/usr/local/lib/python3.6/dist-packages/gym_2048/env.py:120: FutureWarning: Using a non-tuple sequence for multidimensional indexing is deprecated; use `arr[tuple(seq)]` instead of `arr[seq]`. In the future this will be interpreted as an array index, `arr[np.array(seq)]`, which will result either in an error or a different result.\n",
      "  board[tile_locs] = tiles\n"
     ]
    }
   ],
   "source": [
    "import gym_2048\n",
    "import gym\n",
    "import numpy as np\n",
    "import tensorflow as tf\n",
    "\n",
    "env=gym.make('2048-v0')\n",
    "obs=env.reset()\n",
    "print(obs)\n",
    "print(env.observation_space)\n",
    "print(env.action_space)\n",
    "obs,reward,done,info=env.step(0)\n",
    "print(obs)"
   ]
  },
  {
   "cell_type": "code",
   "execution_count": 2,
   "metadata": {},
   "outputs": [
    {
     "name": "stdout",
     "output_type": "stream",
     "text": [
      "score>788\tsteps>99\n",
      "[[ 8  2  8  2]\n",
      " [64 16  2  8]\n",
      " [ 4 64  8  4]\n",
      " [ 2  8 16  2]]\n"
     ]
    }
   ],
   "source": [
    "#Random Agent \n",
    "score=0\n",
    "step=0\n",
    "obs=env.reset()\n",
    "while True:\n",
    "    action=env.action_space.sample()\n",
    "    obs,reward,done,info=env.step(action)\n",
    "    score+=reward\n",
    "    step+=1\n",
    "    if done:\n",
    "        break\n",
    "    \n",
    "print(f'score>{score}\\tsteps>{step}')\n",
    "print(obs)"
   ]
  },
  {
   "cell_type": "code",
   "execution_count": 3,
   "metadata": {},
   "outputs": [
    {
     "name": "stdout",
     "output_type": "stream",
     "text": [
      "{1: 0, 2: 1, 4: 2, 8: 3, 16: 4, 32: 5, 64: 6, 128: 7, 256: 8, 512: 9, 1024: 10, 2048: 11}\n"
     ]
    }
   ],
   "source": [
    "layer_count=12 # 0,2,4,8,16,32,64,128,256,512,1024,2048\n",
    "table={2**i:i for i in range(layer_count)}\n",
    "print(table)\n",
    "\n",
    "def preprocess(obs):\n",
    "    x=np.zeros((4,4,layer_count))\n",
    "    for i in range(4):\n",
    "        for j in range(4):\n",
    "            if obs[i,j]>0:\n",
    "                v=min(obs[i,j], 2**(layer_count-1))\n",
    "                x[i,j,table[v]]=1\n",
    "            else:\n",
    "                x[i,j,0]=1\n",
    "    return x"
   ]
  },
  {
   "cell_type": "code",
   "execution_count": 4,
   "metadata": {},
   "outputs": [],
   "source": [
    "def build_model():\n",
    "    dense1=128\n",
    "    dense2=128\n",
    "    x=tf.keras.Input(shape=(4,4,layer_count))\n",
    "    conv_a=tf.keras.layers.Conv2D(dense1,kernel_size=(2,1),activation='relu')(x)\n",
    "    conv_b=tf.keras.layers.Conv2D(dense1,kernel_size=(1,2),activation='relu')(x)\n",
    "    conv_aa=tf.keras.layers.Conv2D(dense2,kernel_size=(2,1),activation='relu')(conv_a)\n",
    "    conv_ab=tf.keras.layers.Conv2D(dense2,kernel_size=(1,2),activation='relu')(conv_a)\n",
    "    conv_ba=tf.keras.layers.Conv2D(dense2,kernel_size=(2,1),activation='relu')(conv_b)\n",
    "    conv_bb=tf.keras.layers.Conv2D(dense2,kernel_size=(1,2),activation='relu')(conv_b)\n",
    "    flat=[tf.keras.layers.Flatten()(a) for a in [conv_a,conv_b,conv_aa,conv_ab,conv_ba,conv_bb]]\n",
    "    concat=tf.keras.layers.Concatenate()(flat)\n",
    "    dense1=tf.keras.layers.Dense(256,activation='relu')(concat)\n",
    "    out=tf.keras.layers.Dense(4,activation='linear')(dense1)\n",
    "    model=tf.keras.Model(inputs=x,outputs=out)\n",
    "    model.compile(optimizer=tf.optimizers.RMSprop(learning_rate=0.0005),loss='mse')\n",
    "    #model.summary()\n",
    "    return model"
   ]
  },
  {
   "cell_type": "code",
   "execution_count": 5,
   "metadata": {},
   "outputs": [
    {
     "name": "stdout",
     "output_type": "stream",
     "text": [
      "Model: \"model\"\n",
      "__________________________________________________________________________________________________\n",
      "Layer (type)                    Output Shape         Param #     Connected to                     \n",
      "==================================================================================================\n",
      "input_1 (InputLayer)            [(None, 4, 4, 12)]   0                                            \n",
      "__________________________________________________________________________________________________\n",
      "conv2d (Conv2D)                 (None, 3, 4, 128)    3200        input_1[0][0]                    \n",
      "__________________________________________________________________________________________________\n",
      "conv2d_1 (Conv2D)               (None, 4, 3, 128)    3200        input_1[0][0]                    \n",
      "__________________________________________________________________________________________________\n",
      "conv2d_2 (Conv2D)               (None, 2, 4, 128)    32896       conv2d[0][0]                     \n",
      "__________________________________________________________________________________________________\n",
      "conv2d_3 (Conv2D)               (None, 3, 3, 128)    32896       conv2d[0][0]                     \n",
      "__________________________________________________________________________________________________\n",
      "conv2d_4 (Conv2D)               (None, 3, 3, 128)    32896       conv2d_1[0][0]                   \n",
      "__________________________________________________________________________________________________\n",
      "conv2d_5 (Conv2D)               (None, 4, 2, 128)    32896       conv2d_1[0][0]                   \n",
      "__________________________________________________________________________________________________\n",
      "flatten (Flatten)               (None, 1536)         0           conv2d[0][0]                     \n",
      "__________________________________________________________________________________________________\n",
      "flatten_1 (Flatten)             (None, 1536)         0           conv2d_1[0][0]                   \n",
      "__________________________________________________________________________________________________\n",
      "flatten_2 (Flatten)             (None, 1024)         0           conv2d_2[0][0]                   \n",
      "__________________________________________________________________________________________________\n",
      "flatten_3 (Flatten)             (None, 1152)         0           conv2d_3[0][0]                   \n",
      "__________________________________________________________________________________________________\n",
      "flatten_4 (Flatten)             (None, 1152)         0           conv2d_4[0][0]                   \n",
      "__________________________________________________________________________________________________\n",
      "flatten_5 (Flatten)             (None, 1024)         0           conv2d_5[0][0]                   \n",
      "__________________________________________________________________________________________________\n",
      "concatenate (Concatenate)       (None, 7424)         0           flatten[0][0]                    \n",
      "                                                                 flatten_1[0][0]                  \n",
      "                                                                 flatten_2[0][0]                  \n",
      "                                                                 flatten_3[0][0]                  \n",
      "                                                                 flatten_4[0][0]                  \n",
      "                                                                 flatten_5[0][0]                  \n",
      "__________________________________________________________________________________________________\n",
      "dense (Dense)                   (None, 256)          1900800     concatenate[0][0]                \n",
      "__________________________________________________________________________________________________\n",
      "dense_1 (Dense)                 (None, 4)            1028        dense[0][0]                      \n",
      "==================================================================================================\n",
      "Total params: 2,039,812\n",
      "Trainable params: 2,039,812\n",
      "Non-trainable params: 0\n",
      "__________________________________________________________________________________________________\n"
     ]
    }
   ],
   "source": [
    "model=build_model()\n",
    "model.summary()\n",
    "target_model=build_model()"
   ]
  },
  {
   "cell_type": "code",
   "execution_count": 6,
   "metadata": {},
   "outputs": [],
   "source": [
    "gamma=0.9\n",
    "batch_size=512\n",
    "max_memory=batch_size*8\n",
    "memory=[]\n",
    "\n",
    "def append_sample(state,action,reward,next_state,done):\n",
    "    memory.append([state,action,reward,next_state,done])\n",
    "    \n",
    "def train_model():\n",
    "    np.random.shuffle(memory)\n",
    "    \n",
    "    len=max_memory//batch_size\n",
    "    for k in range(len):\n",
    "        mini_batch=memory[k*batch_size:(k+1)*batch_size]\n",
    "        \n",
    "        states=np.zeros((batch_size,4,4,layer_count))\n",
    "        next_states=np.zeros((batch_size,4,4,layer_count))\n",
    "        actions,rewards,dones=[],[],[]\n",
    "        \n",
    "        for i in range(batch_size):\n",
    "            states[i]=mini_batch[i][0]\n",
    "            actions.append(mini_batch[i][1])\n",
    "            rewards.append(mini_batch[i][2])\n",
    "            next_states[i]=mini_batch[i][3]\n",
    "            dones.append(mini_batch[i][4])\n",
    "            \n",
    "        target=model.predict(states)\n",
    "        next_target=target_model.predict(next_states)\n",
    "        \n",
    "        for i in range(batch_size):\n",
    "            if dones[i]:\n",
    "                target[i][actions[i]]=rewards[i]\n",
    "            else:\n",
    "                target[i][actions[i]]=rewards[i]+gamma*np.amax(next_target[i])\n",
    "        model.fit(states,target,batch_size=batch_size,epochs=2,verbose=0)\n",
    "        "
   ]
  },
  {
   "cell_type": "code",
   "execution_count": 7,
   "metadata": {},
   "outputs": [
    {
     "name": "stdout",
     "output_type": "stream",
     "text": [
      "score mean>930.0\tstep mean>110.44\titeration>11044\tepsilon>0.8822227695311732\n",
      "score mean>1022.12\tstep mean>117.08\titeration>22752\tepsilon>0.860494212359595\n",
      "score mean>988.0\tstep mean>116.28\titeration>34380\tepsilon>0.8434973191038082\n",
      "score mean>1001.88\tstep mean>116.23\titeration>46003\tepsilon>0.822722543893733\n",
      "score mean>872.16\tstep mean>105.66\titeration>56569\tepsilon>0.8064717346996236\n",
      "score mean>1019.32\tstep mean>117.55\titeration>68324\tepsilon>0.7866088748870222\n",
      "score mean>980.36\tstep mean>113.03\titeration>79627\tepsilon>0.7710714001562543\n",
      "score mean>1025.28\tstep mean>118.72\titeration>91499\tepsilon>0.7558408290579224\n",
      "score mean>1054.92\tstep mean>120.35\titeration>103534\tepsilon>0.737224974611629\n",
      "score mean>964.44\tstep mean>113.07\titeration>114841\tepsilon>0.7226629542993557\n"
     ]
    }
   ],
   "source": [
    "import random\n",
    "import math \n",
    "\n",
    "def softmax(logits):\n",
    "    exp_logits=np.exp(logits-np.max(logits))\n",
    "    sum_exp_logits=np.sum(exp_logits)\n",
    "    return exp_logits/sum_exp_logits\n",
    "max_episodes=10001\n",
    "epsilon=0.9\n",
    "epsilon_min=0.1\n",
    "\n",
    "scores=[]\n",
    "steps=[]\n",
    "iteration=0\n",
    "train_count=0\n",
    "\n",
    "for i in range(max_episodes):\n",
    "    if i%100==0 and i!=0:\n",
    "        print(f'{i}\\tscore mean>{np.mean(scores[-100:])}\\tstep mean>{np.mean(steps[-100:])}\\titeration>{iteration}\\tepsilon>{epsilon}')\n",
    "    prev_obs=env.reset()\n",
    "    score=0\n",
    "    step=0\n",
    "    not_move_list=np.array([1,1,1,1])\n",
    "    prev_max=np.max(prev_obs)\n",
    "    \n",
    "    while True:\n",
    "        iteration+=1\n",
    "        if random.random()<epsilon:\n",
    "            action=env.action_space.sample()\n",
    "        else:\n",
    "            x=preprocess(prev_obs)\n",
    "            logits=model.predict(np.expand_dims(x,axis=0))[0]\n",
    "            prob=softmax(logits)\n",
    "            prob=prob*not_move_list\n",
    "            action=np.argmax(prob)\n",
    "        obs,reward,done,info=env.step(action)\n",
    "        score+=reward\n",
    "        step+=1\n",
    "        #not move situation\n",
    "        if reward==0 and np.array_equal(obs,prev_obs):\n",
    "            not_move_list[action]=0\n",
    "            continue\n",
    "        else:\n",
    "            not_move_list=np.array([1,1,1,1])\n",
    "        \n",
    "        #custom reward\n",
    "        now_max=np.max(obs)\n",
    "        if prev_max<now_max:\n",
    "            prev_max=now_max\n",
    "            reward=math.log(now_max,2)*0.1\n",
    "        else:\n",
    "            reward=0\n",
    "        reward+=np.count_nonzero(prev_obs)-np.count_nonzero(obs)+1\n",
    "        append_sample(preprocess(prev_obs),action,reward,preprocess(obs),done)\n",
    "        \n",
    "        if len(memory)>=max_memory:\n",
    "            train_model()\n",
    "            memory=[]\n",
    "            train_count+=1\n",
    "            if train_count%4==0:\n",
    "                target_model.set_weights(model.get_weights())\n",
    "        prev_obs=obs\n",
    "        if epsilon>0.01 and iteration%2500==0:\n",
    "            epsilon=epsilon/1.005\n",
    "        if done:\n",
    "            break\n",
    "    scores.append(score)\n",
    "    steps.append(step)\n",
    "    #print(f'{i}\\tScore>{score}\\tStep>{step}\\tMax_tile>{np.max(obs)}\\tmemory_len>{len(memory)}')\n",
    "        "
   ]
  },
  {
   "cell_type": "code",
   "execution_count": 8,
   "metadata": {},
   "outputs": [
    {
     "data": {
      "image/png": "[encoded data removed]",
      "text/plain": [
       "<Figure size 864x288 with 2 Axes>"
      ]
     },
     "metadata": {
      "needs_background": "light"
     },
     "output_type": "display_data"
    }
   ],
   "source": [
    "import matplotlib.pyplot as plt\n",
    "N=100\n",
    "rolling_mean=[np.mean(scores[x:x+N]) for x in range(len(scores)-N+1)]\n",
    "plt.figure(figsize=(12,4))\n",
    "plt.subplot(1,2,1)\n",
    "plt.scatter(range(len(scores)),scores,marker='.')\n",
    "plt.subplot(1,2,2)\n",
    "plt.plot(rolling_mean)\n",
    "plt.show()"
   ]
  },
  {
   "cell_type": "code",
   "execution_count": null,
   "metadata": {},
   "outputs": [],
   "source": []
  }
 ],
 "metadata": {
  "kernelspec": {
   "display_name": "Python 3",
   "language": "python",
   "name": "python3"
  },
  "language_info": {
   "codemirror_mode": {
    "name": "ipython",
    "version": 3
   },
   "file_extension": ".py",
   "mimetype": "text/x-python",
   "name": "python",
   "nbconvert_exporter": "python",
   "pygments_lexer": "ipython3",
   "version": "3.6.9"
  }
 },
 "nbformat": 4,
 "nbformat_minor": 4
}
