{
 "cells": [
  {
   "cell_type": "code",
   "execution_count": 1,
   "metadata": {},
   "outputs": [],
   "source": [
    "import time\n",
    "import gym\n",
    "import tensorflow as tf\n",
    "import numpy as np"
   ]
  },
  {
   "cell_type": "code",
   "execution_count": 2,
   "metadata": {},
   "outputs": [
    {
     "name": "stdout",
     "output_type": "stream",
     "text": [
      "Box(-1.0, 1.0, (1,), float32)\n",
      "999\n"
     ]
    }
   ],
   "source": [
    "env=gym.make('MountainCarContinuous-v0')\n",
    "action_space_len=env.action_space\n",
    "print(env.action_space)\n",
    "print(env._max_episode_steps)"
   ]
  },
  {
   "cell_type": "code",
   "execution_count": 3,
   "metadata": {},
   "outputs": [
    {
     "name": "stdout",
     "output_type": "stream",
     "text": [
      "[0.6  0.07]\n",
      "[-1.2  -0.07]\n"
     ]
    }
   ],
   "source": [
    "print(env.observation_space.high)\n",
    "print(env.observation_space.low)"
   ]
  },
  {
   "cell_type": "code",
   "execution_count": 4,
   "metadata": {},
   "outputs": [
    {
     "name": "stdout",
     "output_type": "stream",
     "text": [
      "iter>0,\tscore>-200\n",
      "iter>100,\tscore>-200\n",
      "iter>200,\tscore>-200\n",
      "iter>300,\tscore>-200\n",
      "iter>400,\tscore>-200\n",
      "iter>500,\tscore>-200\n",
      "iter>600,\tscore>-200\n",
      "iter>700,\tscore>-200\n",
      "iter>800,\tscore>-200\n",
      "iter>900,\tscore>-200\n"
     ]
    }
   ],
   "source": [
    "scores=[]\n",
    "training_data=[]\n",
    "accepted_scores=[]\n",
    "required_score=-190\n",
    "for i in range(1000):\n",
    "    env.reset()\n",
    "    score=0\n",
    "    game_mem=[]\n",
    "    prev_obs=[]\n",
    "    for j in range(200):\n",
    "        action=env.action_space.sample()\n",
    "        obs,reward,done,info=env.step(action)   \n",
    "        if len(prev_obs)>0:\n",
    "            game_mem.append([prev_obs,action])\n",
    "        prev_obs=obs\n",
    "        prev_obs=obs\n",
    "        if obs[0]>-0.2:\n",
    "            reward=1\n",
    "        else:\n",
    "            reward=-1\n",
    "        score+=reward\n",
    "        if done:\n",
    "            break    \n",
    "    if i %100==0:\n",
    "        print(f'iter>{i},\\tscore>{score}')\n",
    "    scores.append(score)\n",
    "    if score>required_score:\n",
    "        accepted_scores.append(score)\n",
    "        for data in game_mem:\n",
    "            training_data.append(data)"
   ]
  },
  {
   "cell_type": "code",
   "execution_count": 5,
   "metadata": {},
   "outputs": [
    {
     "name": "stdout",
     "output_type": "stream",
     "text": [
      "-199.842\n",
      "[-176, -168, -186, -166, -180, -178, -188]\n"
     ]
    },
    {
     "data": {
      "text/plain": [
       "<seaborn.axisgrid.FacetGrid at 0x7f0c9fc236a0>"
      ]
     },
     "execution_count": 5,
     "metadata": {},
     "output_type": "execute_result"
    },
    {
     "data": {
      "image/png": "[encoded data removed]",
      "text/plain": [
       "<Figure size 360x360 with 1 Axes>"
      ]
     },
     "metadata": {
      "needs_background": "light"
     },
     "output_type": "display_data"
    }
   ],
   "source": [
    "\n",
    "scores=np.array(scores)\n",
    "print(scores.mean())\n",
    "print(accepted_scores)\n",
    "\n",
    "import seaborn as sns\n",
    "sns.displot(scores,rug=True)"
   ]
  },
  {
   "cell_type": "code",
   "execution_count": 6,
   "metadata": {},
   "outputs": [
    {
     "name": "stdout",
     "output_type": "stream",
     "text": [
      "(1393, 2)\n",
      "(1393, 1)\n"
     ]
    }
   ],
   "source": [
    "train_x=np.array([i[0] for i in training_data]).reshape(-1,2)\n",
    "train_y=np.array([i[1] for i in training_data]).reshape(-1,1)\n",
    "print(train_x.shape)\n",
    "print(train_y.shape)"
   ]
  },
  {
   "cell_type": "code",
   "execution_count": 7,
   "metadata": {},
   "outputs": [],
   "source": [
    "model=tf.keras.Sequential([\n",
    "    tf.keras.layers.Dense(128,input_shape=(2,),activation='relu'),\n",
    "    tf.keras.layers.Dense(64,activation='relu'),\n",
    "    tf.keras.layers.Dense(1,activation='linear')\n",
    "])\n",
    "model.compile(optimizer=tf.optimizers.Adam(),loss='mse')"
   ]
  },
  {
   "cell_type": "code",
   "execution_count": 8,
   "metadata": {},
   "outputs": [
    {
     "name": "stdout",
     "output_type": "stream",
     "text": [
      "Epoch 1/10\n",
      "33/33 [==============================] - 0s 5ms/step - loss: 0.3331 - val_loss: 0.3322\n",
      "Epoch 2/10\n",
      "33/33 [==============================] - 0s 2ms/step - loss: 0.3316 - val_loss: 0.3335\n",
      "Epoch 3/10\n",
      "33/33 [==============================] - 0s 2ms/step - loss: 0.3319 - val_loss: 0.3318\n",
      "Epoch 4/10\n",
      "33/33 [==============================] - 0s 2ms/step - loss: 0.3327 - val_loss: 0.3313\n",
      "Epoch 5/10\n",
      "33/33 [==============================] - 0s 2ms/step - loss: 0.3319 - val_loss: 0.3327\n",
      "Epoch 6/10\n",
      "33/33 [==============================] - 0s 2ms/step - loss: 0.3330 - val_loss: 0.3307\n",
      "Epoch 7/10\n",
      "33/33 [==============================] - 0s 2ms/step - loss: 0.3326 - val_loss: 0.3316\n",
      "Epoch 8/10\n",
      "33/33 [==============================] - 0s 2ms/step - loss: 0.3304 - val_loss: 0.3305\n",
      "Epoch 9/10\n",
      "33/33 [==============================] - 0s 2ms/step - loss: 0.3321 - val_loss: 0.3308\n",
      "Epoch 10/10\n",
      "33/33 [==============================] - 0s 2ms/step - loss: 0.3304 - val_loss: 0.3300\n"
     ]
    }
   ],
   "source": [
    "hist=model.fit(train_x,train_y,epochs=10,validation_split=0.25)"
   ]
  },
  {
   "cell_type": "code",
   "execution_count": null,
   "metadata": {},
   "outputs": [
    {
     "name": "stdout",
     "output_type": "stream",
     "text": [
      "1>\tmean step:500.0\tmean score>-0.11248002882607977\n",
      "2>\tmean step:500.0\tmean score>-0.08565789085004272\n",
      "3>\tmean step:500.0\tmean score>-0.07189378292427896\n",
      "4>\tmean step:500.0\tmean score>-0.07941637888872081\n"
     ]
    }
   ],
   "source": [
    "scores=[]\n",
    "steps=[]\n",
    "actions=[]\n",
    "\n",
    "for i in range(500):\n",
    "    if i>0:\n",
    "        print(f'{i}>\\tmean step:{np.mean(steps[-100:])}\\tmean score>{np.mean(scores[-100:])}')\n",
    "    score=0\n",
    "    step=0\n",
    "    prev_obs=[]\n",
    "    env.reset()\n",
    "    for j in range(500):\n",
    "        if len(prev_obs)==0:\n",
    "            action=env.action_space.sample()\n",
    "        else:\n",
    "            action=model.predict(np.expand_dims(prev_obs,axis=0))[0]\n",
    "            actions.append(action)\n",
    "        obs,reward,done,info=env.step(action)\n",
    "        prev_obs=obs\n",
    "        score+=reward\n",
    "        step+=1\n",
    "        if done:\n",
    "            break\n",
    "    scores.append(score)\n",
    "    steps.append(step)"
   ]
  },
  {
   "cell_type": "code",
   "execution_count": 4,
   "metadata": {},
   "outputs": [
    {
     "ename": "NameError",
     "evalue": "name 'scores' is not defined",
     "output_type": "error",
     "traceback": [
      "\u001b[0;31m---------------------------------------------------------------------------\u001b[0m",
      "\u001b[0;31mNameError\u001b[0m                                 Traceback (most recent call last)",
      "\u001b[0;32m<ipython-input-4-34c5c3114335>\u001b[0m in \u001b[0;36m<module>\u001b[0;34m\u001b[0m\n\u001b[1;32m      4\u001b[0m \u001b[0max\u001b[0m\u001b[0;34m[\u001b[0m\u001b[0;36m0\u001b[0m\u001b[0;34m]\u001b[0m\u001b[0;34m.\u001b[0m\u001b[0mset_title\u001b[0m\u001b[0;34m(\u001b[0m\u001b[0;34m'score'\u001b[0m\u001b[0;34m)\u001b[0m\u001b[0;34m\u001b[0m\u001b[0;34m\u001b[0m\u001b[0m\n\u001b[1;32m      5\u001b[0m \u001b[0max\u001b[0m\u001b[0;34m[\u001b[0m\u001b[0;36m1\u001b[0m\u001b[0;34m]\u001b[0m\u001b[0;34m.\u001b[0m\u001b[0mset_title\u001b[0m\u001b[0;34m(\u001b[0m\u001b[0;34m'step'\u001b[0m\u001b[0;34m)\u001b[0m\u001b[0;34m\u001b[0m\u001b[0;34m\u001b[0m\u001b[0m\n\u001b[0;32m----> 6\u001b[0;31m \u001b[0msns\u001b[0m\u001b[0;34m.\u001b[0m\u001b[0mdisplot\u001b[0m\u001b[0;34m(\u001b[0m\u001b[0mscores\u001b[0m\u001b[0;34m,\u001b[0m\u001b[0mrug\u001b[0m\u001b[0;34m=\u001b[0m\u001b[0;32mTrue\u001b[0m\u001b[0;34m,\u001b[0m\u001b[0max\u001b[0m\u001b[0;34m=\u001b[0m\u001b[0max\u001b[0m\u001b[0;34m[\u001b[0m\u001b[0;36m0\u001b[0m\u001b[0;34m]\u001b[0m\u001b[0;34m)\u001b[0m\u001b[0;34m\u001b[0m\u001b[0;34m\u001b[0m\u001b[0m\n\u001b[0m\u001b[1;32m      7\u001b[0m \u001b[0msns\u001b[0m\u001b[0;34m.\u001b[0m\u001b[0mdisplot\u001b[0m\u001b[0;34m(\u001b[0m\u001b[0msteps\u001b[0m\u001b[0;34m,\u001b[0m\u001b[0mrug\u001b[0m\u001b[0;34m=\u001b[0m\u001b[0;32mTrue\u001b[0m\u001b[0;34m,\u001b[0m\u001b[0max\u001b[0m\u001b[0;34m=\u001b[0m\u001b[0max\u001b[0m\u001b[0;34m[\u001b[0m\u001b[0;36m1\u001b[0m\u001b[0;34m]\u001b[0m\u001b[0;34m)\u001b[0m\u001b[0;34m\u001b[0m\u001b[0;34m\u001b[0m\u001b[0m\n\u001b[1;32m      8\u001b[0m \u001b[0;34m\u001b[0m\u001b[0m\n",
      "\u001b[0;31mNameError\u001b[0m: name 'scores' is not defined"
     ]
    },
    {
     "data": {
      "image/png": "[encoded data removed]",
      "text/plain": [
       "<Figure size 864x288 with 2 Axes>"
      ]
     },
     "metadata": {
      "needs_background": "light"
     },
     "output_type": "display_data"
    }
   ],
   "source": [
    "import matplotlib.pyplot as plt\n",
    "import seaborn as sns\n",
    "fig, ax=plt.subplots(1,2,figsize=(12,4))\n",
    "ax[0].set_title('score')\n",
    "ax[1].set_title('step')\n",
    "sns.displot(scores,rug=True,ax=ax[0])\n",
    "sns.displot(steps,rug=True,ax=ax[1])\n",
    "\n",
    "print(np.mean(scores))"
   ]
  },
  {
   "cell_type": "markdown",
   "metadata": {},
   "source": []
  },
  {
   "cell_type": "code",
   "execution_count": 1,
   "metadata": {},
   "outputs": [
    {
     "name": "stdout",
     "output_type": "stream",
     "text": [
      "Box(-1.0, 1.0, (1,), float32)\n",
      "999\n"
     ]
    }
   ],
   "source": [
    "import time\n",
    "import gym\n",
    "import tensorflow as tf\n",
    "import numpy as np\n",
    "env=gym.make('MountainCarContinuous-v0')\n",
    "action_space_len=env.action_space\n",
    "print(env.action_space)\n",
    "print(env._max_episode_steps)"
   ]
  },
  {
   "cell_type": "code",
   "execution_count": 9,
   "metadata": {},
   "outputs": [
    {
     "name": "stdout",
     "output_type": "stream",
     "text": [
      "[-1.         -0.59999999 -0.19999999  0.20000002  0.60000002  1.00000003]\n"
     ]
    }
   ],
   "source": [
    "state_grid_count=10\n",
    "action_grid_count=6\n",
    "q_table=[]\n",
    "for i in range(state_grid_count):\n",
    "    q_table.append([])\n",
    "    for j in range(state_grid_count):\n",
    "        q_table[i].append([])\n",
    "        for k in range(action_grid_count):\n",
    "            q_table[i][j].append(1e-4)\n",
    "            \n",
    "actions=range(action_grid_count)\n",
    "actions=np.array(actions).astype(float)\n",
    "actions*=((env.action_space.high - env.action_space.low)/(action_grid_count -1))\n",
    "actions+=env.action_space.low\n",
    "print(actions)"
   ]
  },
  {
   "cell_type": "code",
   "execution_count": 10,
   "metadata": {},
   "outputs": [],
   "source": [
    "import random \n",
    "def obs_to_state(env,obs):\n",
    "    obs=obs.flatten()\n",
    "    low=env.observation_space.low\n",
    "    high=env.observation_space.high\n",
    "    idx=(obs-low)/(high-low)*state_grid_count\n",
    "    idx=[int(x) for x in idx]\n",
    "    return idx\n",
    "def softmax(logits):\n",
    "    exp_logits=np.exp(logits-np.max(logits))\n",
    "    sum_exp_logits=np.sum(exp_logits)\n",
    "    return exp_logits/sum_exp_logits"
   ]
  },
  {
   "cell_type": "code",
   "execution_count": 11,
   "metadata": {},
   "outputs": [
    {
     "name": "stdout",
     "output_type": "stream",
     "text": [
      "[ 0.5417144  -0.05650251]\n",
      "[9, 0]\n"
     ]
    }
   ],
   "source": [
    "sample=env.observation_space.sample()\n",
    "grid=obs_to_state(env,sample)\n",
    "print(sample)\n",
    "print(grid)"
   ]
  },
  {
   "cell_type": "code",
   "execution_count": 13,
   "metadata": {},
   "outputs": [
    {
     "name": "stdout",
     "output_type": "stream",
     "text": [
      "i>100\tmean score>-33.12848092257501\tmean step>999.0\tepsilon>0.01\n",
      "i>200\tmean score>-23.93824086026903\tmean step>980.24\tepsilon>0.01\n",
      "i>300\tmean score>0.5331591970825942\tmean step>913.67\tepsilon>0.01\n",
      "i>400\tmean score>79.05067962568519\tmean step>384.45\tepsilon>0.01\n",
      "Solved in 410\n"
     ]
    }
   ],
   "source": [
    "max_episode=1000\n",
    "scores=[]\n",
    "steps=[]\n",
    "select_actions=[]\n",
    "learning_rate=0.05\n",
    "gamma=0.99\n",
    "epsilon=1.0\n",
    "epsilon_min=0.01\n",
    "\n",
    "for i in range(max_episode):\n",
    "    epsilon*=0.9\n",
    "    epsilon=max(epsilon_min,epsilon)\n",
    "    \n",
    "    if i%100 == 0 and i!=0:\n",
    "        print(f'i>{i}\\tmean score>{np.mean(scores[-100:])}\\tmean step>{np.mean(steps[-100:])}\\tepsilon>{epsilon}')\n",
    "        \n",
    "    prev_obs=env.reset()\n",
    "    score=0\n",
    "    step=0\n",
    "    while True:\n",
    "        state_idx=obs_to_state(env,prev_obs)\n",
    "        if random.random()<epsilon:\n",
    "            action_idx=random.randint(0,action_grid_count-1)\n",
    "            action=actions[action_idx]\n",
    "        else:\n",
    "            logits=q_table[state_idx[0]][state_idx[1]]\n",
    "            action_idx=np.argmax(softmax(logits))\n",
    "            action=actions[action_idx]\n",
    "            \n",
    "        obs,reward,done,info=env.step([action])\n",
    "        prev_obs=obs\n",
    "        score+=reward\n",
    "        reward-=0.05\n",
    "        step+=1\n",
    "        \n",
    "        select_actions.append(action)\n",
    "        new_state_idx=obs_to_state(env,obs)\n",
    "        \n",
    "        q_table[state_idx[0]][state_idx[1]][action_idx]=q_table[state_idx[0]][state_idx[1]][action_idx]+learning_rate*(reward+gamma*np.amax(q_table[new_state_idx[0]][new_state_idx[1]])-q_table[state_idx[0]][state_idx[1]][action_idx])\n",
    "        \n",
    "        if done:\n",
    "            break\n",
    "    scores.append(score)\n",
    "    steps.append(step)\n",
    "    \n",
    "    if np.mean(scores[-100:]) >= 90:\n",
    "        print(f'Solved in {i}')\n",
    "        break"
   ]
  },
  {
   "cell_type": "code",
   "execution_count": 14,
   "metadata": {},
   "outputs": [
    {
     "name": "stderr",
     "output_type": "stream",
     "text": [
      "/usr/local/lib/python3.6/dist-packages/seaborn/distributions.py:2163: UserWarning: `displot` is a figure-level function and does not accept the ax= paramter. You may wish to try histplot.\n",
      "  warnings.warn(msg, UserWarning)\n",
      "/usr/local/lib/python3.6/dist-packages/seaborn/distributions.py:2163: UserWarning: `displot` is a figure-level function and does not accept the ax= paramter. You may wish to try histplot.\n",
      "  warnings.warn(msg, UserWarning)\n"
     ]
    },
    {
     "name": "stdout",
     "output_type": "stream",
     "text": [
      "7.965828953662961\n"
     ]
    },
    {
     "data": {
      "image/png": "[encoded data removed]",
      "text/plain": [
       "<Figure size 864x288 with 2 Axes>"
      ]
     },
     "metadata": {
      "needs_background": "light"
     },
     "output_type": "display_data"
    },
    {
     "data": {
      "image/png": "[encoded data removed]",
      "text/plain": [
       "<Figure size 360x360 with 1 Axes>"
      ]
     },
     "metadata": {
      "needs_background": "light"
     },
     "output_type": "display_data"
    },
    {
     "data": {
      "image/png": "[encoded data removed]",
      "text/plain": [
       "<Figure size 360x360 with 1 Axes>"
      ]
     },
     "metadata": {
      "needs_background": "light"
     },
     "output_type": "display_data"
    }
   ],
   "source": [
    "import matplotlib.pyplot as plt\n",
    "import seaborn as sns\n",
    "fig, ax=plt.subplots(1,2,figsize=(12,4))\n",
    "ax[0].set_title('score')\n",
    "ax[1].set_title('step')\n",
    "sns.displot(scores,rug=True,ax=ax[0])\n",
    "sns.displot(steps,rug=True,ax=ax[1])\n",
    "\n",
    "print(np.mean(scores))"
   ]
  },
  {
   "cell_type": "code",
   "execution_count": 15,
   "metadata": {},
   "outputs": [
    {
     "data": {
      "text/plain": [
       "<seaborn.axisgrid.FacetGrid at 0x7f3396261860>"
      ]
     },
     "execution_count": 15,
     "metadata": {},
     "output_type": "execute_result"
    },
    {
     "data": {
      "image/png": "[encoded data removed]",
      "text/plain": [
       "<Figure size 360x360 with 1 Axes>"
      ]
     },
     "metadata": {
      "needs_background": "light"
     },
     "output_type": "display_data"
    }
   ],
   "source": [
    "sns.displot(select_actions)"
   ]
  },
  {
   "cell_type": "code",
   "execution_count": 16,
   "metadata": {},
   "outputs": [
    {
     "data": {
      "image/png": "[encoded data removed]",
      "text/plain": [
       "<Figure size 432x288 with 1 Axes>"
      ]
     },
     "metadata": {
      "needs_background": "light"
     },
     "output_type": "display_data"
    }
   ],
   "source": [
    "plt.plot(scores)\n",
    "plt.xlabel('episodes')\n",
    "plt.ylabel('score')\n",
    "plt.show()"
   ]
  },
  {
   "cell_type": "code",
   "execution_count": null,
   "metadata": {},
   "outputs": [],
   "source": []
  }
 ],
 "metadata": {
  "kernelspec": {
   "display_name": "Python 3",
   "language": "python",
   "name": "python3"
  },
  "language_info": {
   "codemirror_mode": {
    "name": "ipython",
    "version": 3
   },
   "file_extension": ".py",
   "mimetype": "text/x-python",
   "name": "python",
   "nbconvert_exporter": "python",
   "pygments_lexer": "ipython3",
   "version": "3.6.9"
  }
 },
 "nbformat": 4,
 "nbformat_minor": 4
}
