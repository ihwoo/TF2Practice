{
 "cells": [
  {
   "cell_type": "code",
   "execution_count": 1,
   "metadata": {},
   "outputs": [],
   "source": [
    "import time\n",
    "import gym\n",
    "import tensorflow as tf"
   ]
  },
  {
   "cell_type": "code",
   "execution_count": 2,
   "metadata": {},
   "outputs": [
    {
     "name": "stdout",
     "output_type": "stream",
     "text": [
      "Discrete(18)\n",
      "10000\n"
     ]
    }
   ],
   "source": [
    "env=gym.make('Alien-v0')\n",
    "print(env.action_space)\n",
    "print(env._max_episode_steps)"
   ]
  },
  {
   "cell_type": "code",
   "execution_count": null,
   "metadata": {},
   "outputs": [
    {
     "name": "stdout",
     "output_type": "stream",
     "text": [
      "iter>0\n"
     ]
    }
   ],
   "source": [
    "scores=[]\n",
    "train_data=[]\n",
    "accepted_score=[]\n",
    "required_score=100\n",
    "\n",
    "for i in range(100):\n",
    "    if i %100==0:\n",
    "        print(f'iter>{i}')\n",
    "    env.reset()\n",
    "    score=0\n",
    "    game_memory=[]\n",
    "    prev_obs=[]\n",
    "    for j in range(1000):\n",
    "        \n",
    "        action=env.action_space.sample()\n",
    "        obs,reward,done,info=env.step(action)\n",
    "        \n",
    "        if len(prev_obs)>0:\n",
    "            game_memory.append([prev_obs,action])\n",
    "        prev_obs=obs\n",
    "        \n",
    "        #env.render()\n",
    "        #time.sleep(0.013)\n",
    "        score+=reward\n",
    "        if done:            \n",
    "            break\n",
    "    scores.append(score)\n",
    "    if score>required_score:\n",
    "        accepted_score.append(score)\n",
    "        for data in game_memory:\n",
    "            train_data.append(data)\n",
    "print(score, step)"
   ]
  },
  {
   "cell_type": "code",
   "execution_count": null,
   "metadata": {},
   "outputs": [],
   "source": []
  }
 ],
 "metadata": {
  "kernelspec": {
   "display_name": "Python 3",
   "language": "python",
   "name": "python3"
  },
  "language_info": {
   "codemirror_mode": {
    "name": "ipython",
    "version": 3
   },
   "file_extension": ".py",
   "mimetype": "text/x-python",
   "name": "python",
   "nbconvert_exporter": "python",
   "pygments_lexer": "ipython3",
   "version": "3.6.9"
  }
 },
 "nbformat": 4,
 "nbformat_minor": 4
}
