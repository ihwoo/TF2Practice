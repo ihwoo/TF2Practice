{
 "cells": [
  {
   "cell_type": "code",
   "execution_count": 1,
   "metadata": {},
   "outputs": [],
   "source": [
    "import time\n",
    "import gym\n",
    "import tensorflow as tf\n",
    "import numpy as np"
   ]
  },
  {
   "cell_type": "code",
   "execution_count": 2,
   "metadata": {},
   "outputs": [
    {
     "name": "stdout",
     "output_type": "stream",
     "text": [
      "Discrete(18)\n",
      "10000\n"
     ]
    }
   ],
   "source": [
    "env=gym.make('Alien-v0')\n",
    "action_space_len=env.action_space.n\n",
    "print(env.action_space)\n",
    "print(env._max_episode_steps)"
   ]
  },
  {
   "cell_type": "code",
   "execution_count": 3,
   "metadata": {},
   "outputs": [
    {
     "name": "stdout",
     "output_type": "stream",
     "text": [
      "iter>0\tscore>82.10000000000277\n",
      "iter>10\tscore>117.70000000000366\n",
      "iter>20\tscore>589.9999999999891\n",
      "iter>30\tscore>28.69999999999923\n",
      "iter>40\tscore>71.90000000000305\n"
     ]
    }
   ],
   "source": [
    "scores=[]\n",
    "train_data=[]\n",
    "accepted_score=[]\n",
    "required_score=70\n",
    "\n",
    "for i in range(50):\n",
    "    env.reset()\n",
    "    score=0\n",
    "    game_memory=[]\n",
    "    prev_obs=[]\n",
    "    for j in range(1000):\n",
    "        \n",
    "        action=env.action_space.sample()\n",
    "        obs,reward,done,info=env.step(action)\n",
    "        ###########\n",
    "        reward-=0.1\n",
    "        ###########\n",
    "        if len(prev_obs)>0:\n",
    "            game_memory.append([prev_obs,action])\n",
    "        prev_obs=obs\n",
    "        \n",
    "        #env.render()\n",
    "        #time.sleep(0.013)\n",
    "        score+=reward\n",
    "        if done:            \n",
    "            break\n",
    "    scores.append(score)\n",
    "    if score>required_score:\n",
    "        accepted_score.append(score)\n",
    "        for data in game_memory:\n",
    "            train_data.append(data)\n",
    "    if i %10==0:\n",
    "        print(f'iter>{i}\\tscore>{score}')"
   ]
  },
  {
   "cell_type": "code",
   "execution_count": 4,
   "metadata": {},
   "outputs": [
    {
     "data": {
      "text/plain": [
       "<seaborn.axisgrid.FacetGrid at 0x7f6f9ffd3e48>"
      ]
     },
     "execution_count": 4,
     "metadata": {},
     "output_type": "execute_result"
    },
    {
     "data": {
      "image/png": "[encoded data removed]",
      "text/plain": [
       "<Figure size 360x360 with 1 Axes>"
      ]
     },
     "metadata": {
      "needs_background": "light"
     },
     "output_type": "display_data"
    }
   ],
   "source": [
    "import seaborn as sns\n",
    "sns.displot(scores,rug=True)"
   ]
  },
  {
   "cell_type": "code",
   "execution_count": 5,
   "metadata": {},
   "outputs": [
    {
     "name": "stdout",
     "output_type": "stream",
     "text": [
      "(23929,)\n"
     ]
    }
   ],
   "source": [
    "train_x=np.array([i[0] for i in train_data]).reshape(-1,210,160,3)\n",
    "y_val=np.array([i[1] for i in train_data]).reshape(-1)\n",
    "print(y_val.shape)\n",
    "train_y=np.array(tf.one_hot(y_val,action_space_len)).reshape(-1,18)\n",
    "train_x=train_x[:5000]\n",
    "train_y=train_y[:5000]\n",
    "#v=[0]*action_space_len\n",
    "#train_y=[]\n",
    "#idx=0\n",
    "#for i in y_val:\n",
    "#    train_y.append(np.array(v))\n",
    "#    train_y[idx][i]=1\n",
    "#    idx+=1\n",
    "    \n",
    "#train_y=np.array(train_y).reshape(-1,action_space_len)"
   ]
  },
  {
   "cell_type": "code",
   "execution_count": null,
   "metadata": {},
   "outputs": [],
   "source": []
  },
  {
   "cell_type": "code",
   "execution_count": null,
   "metadata": {},
   "outputs": [],
   "source": []
  },
  {
   "cell_type": "code",
   "execution_count": 6,
   "metadata": {},
   "outputs": [
    {
     "name": "stdout",
     "output_type": "stream",
     "text": [
      "(5000, 210, 160, 3)\n",
      "(5000, 18)\n"
     ]
    }
   ],
   "source": [
    "print(train_x.shape)\n",
    "print(train_y.shape)"
   ]
  },
  {
   "cell_type": "code",
   "execution_count": 14,
   "metadata": {},
   "outputs": [
    {
     "name": "stdout",
     "output_type": "stream",
     "text": [
      "Model: \"sequential_2\"\n",
      "_________________________________________________________________\n",
      "Layer (type)                 Output Shape              Param #   \n",
      "=================================================================\n",
      "conv2d_6 (Conv2D)            (None, 208, 158, 128)     3584      \n",
      "_________________________________________________________________\n",
      "max_pooling2d_4 (MaxPooling2 (None, 104, 79, 128)      0         \n",
      "_________________________________________________________________\n",
      "conv2d_7 (Conv2D)            (None, 102, 77, 256)      295168    \n",
      "_________________________________________________________________\n",
      "max_pooling2d_5 (MaxPooling2 (None, 51, 38, 256)       0         \n",
      "_________________________________________________________________\n",
      "conv2d_8 (Conv2D)            (None, 49, 36, 64)        147520    \n",
      "_________________________________________________________________\n",
      "flatten_2 (Flatten)          (None, 112896)            0         \n",
      "_________________________________________________________________\n",
      "dense_4 (Dense)              (None, 64)                7225408   \n",
      "_________________________________________________________________\n",
      "dropout_2 (Dropout)          (None, 64)                0         \n",
      "_________________________________________________________________\n",
      "dense_5 (Dense)              (None, 18)                1170      \n",
      "=================================================================\n",
      "Total params: 7,672,850\n",
      "Trainable params: 7,672,850\n",
      "Non-trainable params: 0\n",
      "_________________________________________________________________\n"
     ]
    }
   ],
   "source": [
    "model=tf.keras.Sequential([\n",
    "        tf.keras.layers.Conv2D(input_shape=(210,160,3),kernel_size=(3,3),filters=128),\n",
    "        tf.keras.layers.MaxPool2D(strides=(2,2)),\n",
    "        tf.keras.layers.Conv2D(kernel_size=(3,3),filters=256),\n",
    "        tf.keras.layers.MaxPool2D(strides=(2,2)),\n",
    "        tf.keras.layers.Conv2D(kernel_size=(3,3),filters=64),\n",
    "        tf.keras.layers.Flatten(),\n",
    "        tf.keras.layers.Dense(units=64,activation='relu'),\n",
    "        tf.keras.layers.Dropout(rate=0.3),\n",
    "        tf.keras.layers.Dense(units=18,activation='softmax')\n",
    "    ])\n",
    "model.compile(optimizer=tf.optimizers.Adam(), \n",
    "              loss='categorical_crossentropy', \n",
    "              metrics=['accuracy'])\n",
    "model.summary()\n"
   ]
  },
  {
   "cell_type": "code",
   "execution_count": 15,
   "metadata": {},
   "outputs": [
    {
     "name": "stdout",
     "output_type": "stream",
     "text": [
      "(5000, 210, 160, 3)\n",
      "(5000, 18)\n"
     ]
    }
   ],
   "source": [
    "#testval=model.predict(train_x[0].reshape(-1,210,160,3))\n",
    "#print(testval)\n",
    "print(train_x.shape)\n",
    "print(train_y.shape)"
   ]
  },
  {
   "cell_type": "code",
   "execution_count": 16,
   "metadata": {},
   "outputs": [
    {
     "name": "stdout",
     "output_type": "stream",
     "text": [
      "Epoch 1/10\n",
      "118/118 [==============================] - 12s 103ms/step - loss: 574.0209 - accuracy: 0.0629 - val_loss: 2.8906 - val_accuracy: 0.0536\n",
      "Epoch 2/10\n",
      "118/118 [==============================] - 12s 100ms/step - loss: 2.8900 - accuracy: 0.0616 - val_loss: 2.8908 - val_accuracy: 0.0536\n",
      "Epoch 3/10\n",
      "118/118 [==============================] - 12s 100ms/step - loss: 2.8897 - accuracy: 0.0592 - val_loss: 2.8909 - val_accuracy: 0.0536\n",
      "Epoch 4/10\n",
      "118/118 [==============================] - 12s 100ms/step - loss: 2.8895 - accuracy: 0.0597 - val_loss: 2.8911 - val_accuracy: 0.0536\n",
      "Epoch 5/10\n",
      "118/118 [==============================] - 12s 100ms/step - loss: 2.8893 - accuracy: 0.0589 - val_loss: 2.8913 - val_accuracy: 0.0528\n",
      "Epoch 6/10\n",
      "118/118 [==============================] - 12s 100ms/step - loss: 2.8892 - accuracy: 0.0597 - val_loss: 2.8914 - val_accuracy: 0.0528\n",
      "Epoch 7/10\n",
      "118/118 [==============================] - 12s 101ms/step - loss: 2.8890 - accuracy: 0.0621 - val_loss: 2.8916 - val_accuracy: 0.0528\n",
      "Epoch 8/10\n",
      "118/118 [==============================] - 12s 100ms/step - loss: 2.8889 - accuracy: 0.0621 - val_loss: 2.8917 - val_accuracy: 0.0528\n",
      "Epoch 9/10\n",
      "118/118 [==============================] - 12s 100ms/step - loss: 2.8889 - accuracy: 0.0621 - val_loss: 2.8919 - val_accuracy: 0.0528\n",
      "Epoch 10/10\n",
      "118/118 [==============================] - 12s 100ms/step - loss: 2.8888 - accuracy: 0.0621 - val_loss: 2.8919 - val_accuracy: 0.0528\n"
     ]
    }
   ],
   "source": [
    "hist=model.fit(train_x,train_y,epochs=10, validation_split=0.25)"
   ]
  },
  {
   "cell_type": "code",
   "execution_count": null,
   "metadata": {},
   "outputs": [],
   "source": []
  }
 ],
 "metadata": {
  "kernelspec": {
   "display_name": "Python 3",
   "language": "python",
   "name": "python3"
  },
  "language_info": {
   "codemirror_mode": {
    "name": "ipython",
    "version": 3
   },
   "file_extension": ".py",
   "mimetype": "text/x-python",
   "name": "python",
   "nbconvert_exporter": "python",
   "pygments_lexer": "ipython3",
   "version": "3.6.9"
  }
 },
 "nbformat": 4,
 "nbformat_minor": 4
}
