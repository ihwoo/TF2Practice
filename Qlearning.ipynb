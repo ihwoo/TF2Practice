{
 "cells": [
  {
   "cell_type": "code",
   "execution_count": 1,
   "metadata": {},
   "outputs": [],
   "source": [
    "import time\n",
    "import gym\n",
    "import tensorflow as tf\n",
    "import numpy as np"
   ]
  },
  {
   "cell_type": "code",
   "execution_count": 2,
   "metadata": {},
   "outputs": [
    {
     "name": "stdout",
     "output_type": "stream",
     "text": [
      "Discrete(18)\n",
      "10000\n"
     ]
    }
   ],
   "source": [
    "env=gym.make('Alien-v0')\n",
    "action_space_len=env.action_space.n\n",
    "print(env.action_space)\n",
    "print(env._max_episode_steps)"
   ]
  },
  {
   "cell_type": "code",
   "execution_count": 3,
   "metadata": {},
   "outputs": [
    {
     "name": "stdout",
     "output_type": "stream",
     "text": [
      "iter>0\tscore>76.50000000000148\n",
      "iter>10\tscore>53.10000000000124\n",
      "iter>20\tscore>110.60000000000257\n",
      "iter>30\tscore>71.29999999999907\n",
      "iter>40\tscore>72.40000000000107\n",
      "iter>50\tscore>46.300000000000985\n",
      "iter>60\tscore>117.90000000000337\n",
      "iter>70\tscore>14.099999999999937\n",
      "iter>80\tscore>79.99999999999967\n",
      "iter>90\tscore>113.70000000000417\n",
      "iter>100\tscore>620.0999999999797\n",
      "iter>110\tscore>32.899999999998755\n",
      "iter>120\tscore>193.20000000000513\n",
      "iter>130\tscore>48.59999999999936\n",
      "iter>140\tscore>91.8000000000049\n",
      "iter>150\tscore>77.50000000000274\n",
      "iter>160\tscore>117.50000000000001\n",
      "iter>170\tscore>66.6\n",
      "iter>180\tscore>136.10000000000468\n",
      "iter>190\tscore>46.49999999999913\n"
     ]
    }
   ],
   "source": [
    "scores=[]\n",
    "train_data=[]\n",
    "accepted_score=[]\n",
    "required_score=200\n",
    "\n",
    "for i in range(200):\n",
    "    env.reset()\n",
    "    score=0\n",
    "    game_memory=[]\n",
    "    prev_obs=[]\n",
    "    for j in range(3000):\n",
    "        \n",
    "        action=env.action_space.sample()\n",
    "        obs,reward,done,info=env.step(action)\n",
    "        ###########\n",
    "        reward-=0.1\n",
    "        ###########\n",
    "        if len(prev_obs)>0:\n",
    "            game_memory.append([prev_obs,action])\n",
    "        prev_obs=obs\n",
    "        \n",
    "        #env.render()\n",
    "        #time.sleep(0.013)\n",
    "        score+=reward\n",
    "        if done:            \n",
    "            break\n",
    "    scores.append(score)\n",
    "    if score>required_score:\n",
    "        accepted_score.append(score)\n",
    "        for data in game_memory:\n",
    "            train_data.append(data)\n",
    "    if i %10==0:\n",
    "        print(f'iter>{i}\\tscore>{score}')"
   ]
  },
  {
   "cell_type": "code",
   "execution_count": 4,
   "metadata": {},
   "outputs": [
    {
     "data": {
      "text/plain": [
       "<seaborn.axisgrid.FacetGrid at 0x7fcf5ce85e80>"
      ]
     },
     "execution_count": 4,
     "metadata": {},
     "output_type": "execute_result"
    },
    {
     "data": {
      "image/png": "[encoded data removed]",
      "text/plain": [
       "<Figure size 360x360 with 1 Axes>"
      ]
     },
     "metadata": {
      "needs_background": "light"
     },
     "output_type": "display_data"
    }
   ],
   "source": [
    "import seaborn as sns\n",
    "sns.displot(scores,rug=True)"
   ]
  },
  {
   "cell_type": "code",
   "execution_count": 5,
   "metadata": {},
   "outputs": [
    {
     "name": "stdout",
     "output_type": "stream",
     "text": [
      "(5538,)\n"
     ]
    }
   ],
   "source": [
    "train_x=np.array([i[0] for i in train_data]).reshape(-1,210,160,3)\n",
    "y_val=np.array([i[1] for i in train_data]).reshape(-1)\n",
    "print(y_val.shape)\n",
    "train_y=np.array(tf.one_hot(y_val,action_space_len)).reshape(-1,18)\n",
    "train_x=train_x[:5000]\n",
    "train_y=train_y[:5000]\n",
    "#v=[0]*action_space_len\n",
    "#train_y=[]\n",
    "#idx=0\n",
    "#for i in y_val:\n",
    "#    train_y.append(np.array(v))\n",
    "#    train_y[idx][i]=1\n",
    "#    idx+=1\n",
    "    \n",
    "#train_y=np.array(train_y).reshape(-1,action_space_len)"
   ]
  },
  {
   "cell_type": "code",
   "execution_count": null,
   "metadata": {},
   "outputs": [],
   "source": []
  },
  {
   "cell_type": "code",
   "execution_count": null,
   "metadata": {},
   "outputs": [],
   "source": []
  },
  {
   "cell_type": "code",
   "execution_count": 6,
   "metadata": {},
   "outputs": [
    {
     "name": "stdout",
     "output_type": "stream",
     "text": [
      "(5000, 210, 160, 3)\n",
      "(5000, 18)\n"
     ]
    }
   ],
   "source": [
    "print(train_x.shape)\n",
    "print(train_y.shape)"
   ]
  },
  {
   "cell_type": "code",
   "execution_count": 7,
   "metadata": {},
   "outputs": [
    {
     "name": "stdout",
     "output_type": "stream",
     "text": [
      "Model: \"sequential\"\n",
      "_________________________________________________________________\n",
      "Layer (type)                 Output Shape              Param #   \n",
      "=================================================================\n",
      "conv2d (Conv2D)              (None, 208, 158, 128)     3584      \n",
      "_________________________________________________________________\n",
      "max_pooling2d (MaxPooling2D) (None, 104, 79, 128)      0         \n",
      "_________________________________________________________________\n",
      "conv2d_1 (Conv2D)            (None, 102, 77, 256)      295168    \n",
      "_________________________________________________________________\n",
      "max_pooling2d_1 (MaxPooling2 (None, 51, 38, 256)       0         \n",
      "_________________________________________________________________\n",
      "conv2d_2 (Conv2D)            (None, 49, 36, 512)       1180160   \n",
      "_________________________________________________________________\n",
      "max_pooling2d_2 (MaxPooling2 (None, 24, 18, 512)       0         \n",
      "_________________________________________________________________\n",
      "conv2d_3 (Conv2D)            (None, 22, 16, 256)       1179904   \n",
      "_________________________________________________________________\n",
      "max_pooling2d_3 (MaxPooling2 (None, 11, 8, 256)        0         \n",
      "_________________________________________________________________\n",
      "conv2d_4 (Conv2D)            (None, 9, 6, 64)          147520    \n",
      "_________________________________________________________________\n",
      "flatten (Flatten)            (None, 3456)              0         \n",
      "_________________________________________________________________\n",
      "dense (Dense)                (None, 64)                221248    \n",
      "_________________________________________________________________\n",
      "dropout (Dropout)            (None, 64)                0         \n",
      "_________________________________________________________________\n",
      "dense_1 (Dense)              (None, 18)                1170      \n",
      "=================================================================\n",
      "Total params: 3,028,754\n",
      "Trainable params: 3,028,754\n",
      "Non-trainable params: 0\n",
      "_________________________________________________________________\n"
     ]
    }
   ],
   "source": [
    "model=tf.keras.Sequential([\n",
    "        tf.keras.layers.Conv2D(input_shape=(210,160,3),kernel_size=(3,3),filters=128),\n",
    "        tf.keras.layers.MaxPool2D(strides=(2,2)),\n",
    "        tf.keras.layers.Conv2D(kernel_size=(3,3),filters=256),\n",
    "        tf.keras.layers.MaxPool2D(strides=(2,2)),\n",
    "        tf.keras.layers.Conv2D(kernel_size=(3,3),filters=512),\n",
    "        tf.keras.layers.MaxPool2D(strides=(2,2)),\n",
    "        tf.keras.layers.Conv2D(kernel_size=(3,3),filters=256),\n",
    "        tf.keras.layers.MaxPool2D(strides=(2,2)),\n",
    "        tf.keras.layers.Conv2D(kernel_size=(3,3),filters=64),\n",
    "        tf.keras.layers.Flatten(),\n",
    "        tf.keras.layers.Dense(units=64,activation='relu'),\n",
    "        tf.keras.layers.Dropout(rate=0.3),\n",
    "        tf.keras.layers.Dense(units=18,activation='softmax')\n",
    "    ])\n",
    "model.compile(optimizer=tf.optimizers.Adam(), \n",
    "              loss='categorical_crossentropy', \n",
    "              metrics=['accuracy'])\n",
    "model.summary()\n"
   ]
  },
  {
   "cell_type": "code",
   "execution_count": 8,
   "metadata": {},
   "outputs": [
    {
     "name": "stdout",
     "output_type": "stream",
     "text": [
      "(5000, 210, 160, 3)\n",
      "(5000, 18)\n"
     ]
    }
   ],
   "source": [
    "#testval=model.predict(train_x[0].reshape(-1,210,160,3))\n",
    "#print(testval)\n",
    "print(train_x.shape)\n",
    "print(train_y.shape)"
   ]
  },
  {
   "cell_type": "code",
   "execution_count": 9,
   "metadata": {},
   "outputs": [
    {
     "name": "stdout",
     "output_type": "stream",
     "text": [
      "Epoch 1/10\n",
      "118/118 [==============================] - 16s 136ms/step - loss: 115.2436 - accuracy: 0.0573 - val_loss: 2.8909 - val_accuracy: 0.0464\n",
      "Epoch 2/10\n",
      "118/118 [==============================] - 16s 131ms/step - loss: 2.8901 - accuracy: 0.0619 - val_loss: 2.8912 - val_accuracy: 0.0464\n",
      "Epoch 3/10\n",
      "118/118 [==============================] - 16s 131ms/step - loss: 2.8900 - accuracy: 0.0619 - val_loss: 2.8916 - val_accuracy: 0.0464\n",
      "Epoch 4/10\n",
      "118/118 [==============================] - 16s 132ms/step - loss: 2.8898 - accuracy: 0.0619 - val_loss: 2.8917 - val_accuracy: 0.0464\n",
      "Epoch 5/10\n",
      "118/118 [==============================] - 16s 132ms/step - loss: 2.8897 - accuracy: 0.0619 - val_loss: 2.8920 - val_accuracy: 0.0464\n",
      "Epoch 6/10\n",
      "118/118 [==============================] - 16s 132ms/step - loss: 2.8897 - accuracy: 0.0619 - val_loss: 2.8921 - val_accuracy: 0.0464\n",
      "Epoch 7/10\n",
      "118/118 [==============================] - 16s 132ms/step - loss: 2.8896 - accuracy: 0.0619 - val_loss: 2.8923 - val_accuracy: 0.0464\n",
      "Epoch 8/10\n",
      "118/118 [==============================] - 16s 132ms/step - loss: 2.8895 - accuracy: 0.0619 - val_loss: 2.8924 - val_accuracy: 0.0464\n",
      "Epoch 9/10\n",
      "118/118 [==============================] - 16s 132ms/step - loss: 2.8895 - accuracy: 0.0619 - val_loss: 2.8926 - val_accuracy: 0.0464\n",
      "Epoch 10/10\n",
      "118/118 [==============================] - 16s 132ms/step - loss: 2.8895 - accuracy: 0.0619 - val_loss: 2.8927 - val_accuracy: 0.0464\n"
     ]
    }
   ],
   "source": [
    "hist=model.fit(train_x,train_y,epochs=10, validation_split=0.25)"
   ]
  },
  {
   "cell_type": "code",
   "execution_count": 10,
   "metadata": {},
   "outputs": [],
   "source": [
    "model.save('qlearning-alien-v0.h5')"
   ]
  },
  {
   "cell_type": "code",
   "execution_count": 11,
   "metadata": {},
   "outputs": [],
   "source": [
    "import matplotlib.pyplot as plt"
   ]
  },
  {
   "cell_type": "code",
   "execution_count": 13,
   "metadata": {},
   "outputs": [
    {
     "data": {
      "image/png": "[encoded data removed]",
      "text/plain": [
       "<Figure size 432x288 with 1 Axes>"
      ]
     },
     "metadata": {
      "needs_background": "light"
     },
     "output_type": "display_data"
    }
   ],
   "source": [
    "plt.plot(hist.history['accuracy'],'b-',label='accuracy')\n",
    "plt.show()"
   ]
  },
  {
   "cell_type": "code",
   "execution_count": null,
   "metadata": {},
   "outputs": [],
   "source": []
  }
 ],
 "metadata": {
  "kernelspec": {
   "display_name": "Python 3",
   "language": "python",
   "name": "python3"
  },
  "language_info": {
   "codemirror_mode": {
    "name": "ipython",
    "version": 3
   },
   "file_extension": ".py",
   "mimetype": "text/x-python",
   "name": "python",
   "nbconvert_exporter": "python",
   "pygments_lexer": "ipython3",
   "version": "3.6.9"
  }
 },
 "nbformat": 4,
 "nbformat_minor": 4
}
